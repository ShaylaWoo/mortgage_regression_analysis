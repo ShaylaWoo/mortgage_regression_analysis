{
 "cells": [
  {
   "cell_type": "markdown",
   "id": "ab8c90c5-e3e0-423e-b0ca-8a3bb7f2fefa",
   "metadata": {},
   "source": [
    "## Load Data"
   ]
  },
  {
   "cell_type": "code",
   "execution_count": 1,
   "id": "c6827450-575b-49cc-9e10-e45866a3ce3f",
   "metadata": {},
   "outputs": [],
   "source": [
    "import pandas as pd\n",
    "import numpy as np\n",
    "import datetime\n",
    "import matplotlib.pyplot as plt \n",
    "import seaborn as sns\n",
    "import re\n",
    "\n",
    "import sklearn\n",
    "from sklearn.model_selection import train_test_split\n",
    "from sklearn.preprocessing import MinMaxScaler,PolynomialFeatures,scale\n",
    "from sklearn.feature_selection import RFE\n",
    "from sklearn.linear_model import LinearRegression\n",
    "from sklearn.model_selection import cross_val_score,KFold,GridSearchCV\n",
    "from sklearn.pipeline import make_pipeline\n",
    "\n",
    "import warnings # supress warnings\n",
    "warnings.filterwarnings('ignore')"
   ]
  },
  {
   "cell_type": "code",
   "execution_count": 2,
   "id": "f2427d06-203d-467b-9d53-20c9518561c0",
   "metadata": {},
   "outputs": [],
   "source": [
    "## TRAIN\n",
    "df = pd.read_csv(\"TRAIN.csv\") # # (164575, 34)\n",
    "\n",
    "## VariablesUsed\n",
    "var = pd.read_csv(\"VariablesUsed.csv\") \n",
    "varU = var.loc[var.used] # (32, 4)\n",
    "\n",
    "## Response Variables\n",
    "res = df.iloc[:,-2:] # (164575, 2) "
   ]
  },
  {
   "cell_type": "code",
   "execution_count": 3,
   "id": "e2048c13-dbf0-4c63-9d1d-2fb5a7ad32f3",
   "metadata": {},
   "outputs": [
    {
     "data": {
      "text/html": [
       "<div>\n",
       "<style scoped>\n",
       "    .dataframe tbody tr th:only-of-type {\n",
       "        vertical-align: middle;\n",
       "    }\n",
       "\n",
       "    .dataframe tbody tr th {\n",
       "        vertical-align: top;\n",
       "    }\n",
       "\n",
       "    .dataframe thead th {\n",
       "        text-align: right;\n",
       "    }\n",
       "</style>\n",
       "<table border=\"1\" class=\"dataframe\">\n",
       "  <thead>\n",
       "    <tr style=\"text-align: right;\">\n",
       "      <th></th>\n",
       "      <th>LID</th>\n",
       "      <th>MRP</th>\n",
       "      <th>CHANNEL</th>\n",
       "      <th>SELLER</th>\n",
       "      <th>ORATE</th>\n",
       "      <th>CRATE</th>\n",
       "      <th>OUPB</th>\n",
       "      <th>OLTERM</th>\n",
       "      <th>ODATE</th>\n",
       "      <th>FPD</th>\n",
       "      <th>...</th>\n",
       "      <th>OCCSTAT</th>\n",
       "      <th>STATE</th>\n",
       "      <th>MSA</th>\n",
       "      <th>ZIP</th>\n",
       "      <th>MIP</th>\n",
       "      <th>CLDS</th>\n",
       "      <th>MIT</th>\n",
       "      <th>RMI</th>\n",
       "      <th>FORECLOSED</th>\n",
       "      <th>NMONTHS</th>\n",
       "    </tr>\n",
       "  </thead>\n",
       "  <tbody>\n",
       "    <tr>\n",
       "      <th>0</th>\n",
       "      <td>8.118470e+11</td>\n",
       "      <td>3/1/2000</td>\n",
       "      <td>C</td>\n",
       "      <td>Suntrust Mortgage Inc.</td>\n",
       "      <td>8.375</td>\n",
       "      <td>8.375</td>\n",
       "      <td>58000</td>\n",
       "      <td>360</td>\n",
       "      <td>7/1/1999</td>\n",
       "      <td>9/1/1999</td>\n",
       "      <td>...</td>\n",
       "      <td>P</td>\n",
       "      <td>OK</td>\n",
       "      <td>36420</td>\n",
       "      <td>730</td>\n",
       "      <td>NaN</td>\n",
       "      <td>0</td>\n",
       "      <td>NaN</td>\n",
       "      <td>N</td>\n",
       "      <td>False</td>\n",
       "      <td>12</td>\n",
       "    </tr>\n",
       "    <tr>\n",
       "      <th>1</th>\n",
       "      <td>9.288980e+11</td>\n",
       "      <td>2/1/2000</td>\n",
       "      <td>C</td>\n",
       "      <td>Amtrust Bank</td>\n",
       "      <td>7.500</td>\n",
       "      <td>7.500</td>\n",
       "      <td>204000</td>\n",
       "      <td>180</td>\n",
       "      <td>12/1/1999</td>\n",
       "      <td>2/1/2000</td>\n",
       "      <td>...</td>\n",
       "      <td>P</td>\n",
       "      <td>WA</td>\n",
       "      <td>48300</td>\n",
       "      <td>988</td>\n",
       "      <td>NaN</td>\n",
       "      <td>0</td>\n",
       "      <td>NaN</td>\n",
       "      <td>N</td>\n",
       "      <td>False</td>\n",
       "      <td>21</td>\n",
       "    </tr>\n",
       "    <tr>\n",
       "      <th>2</th>\n",
       "      <td>2.229740e+11</td>\n",
       "      <td>1/1/2000</td>\n",
       "      <td>C</td>\n",
       "      <td>Jpmorgan Chase Bank, Na</td>\n",
       "      <td>7.750</td>\n",
       "      <td>7.750</td>\n",
       "      <td>181000</td>\n",
       "      <td>360</td>\n",
       "      <td>12/1/1999</td>\n",
       "      <td>2/1/2000</td>\n",
       "      <td>...</td>\n",
       "      <td>P</td>\n",
       "      <td>VA</td>\n",
       "      <td>40060</td>\n",
       "      <td>238</td>\n",
       "      <td>30.0</td>\n",
       "      <td>0</td>\n",
       "      <td>1.0</td>\n",
       "      <td>N</td>\n",
       "      <td>False</td>\n",
       "      <td>54</td>\n",
       "    </tr>\n",
       "    <tr>\n",
       "      <th>3</th>\n",
       "      <td>5.939500e+11</td>\n",
       "      <td>2/1/2000</td>\n",
       "      <td>B</td>\n",
       "      <td>Bank Of America, N.A.</td>\n",
       "      <td>8.625</td>\n",
       "      <td>8.625</td>\n",
       "      <td>135000</td>\n",
       "      <td>360</td>\n",
       "      <td>1/1/2000</td>\n",
       "      <td>3/1/2000</td>\n",
       "      <td>...</td>\n",
       "      <td>P</td>\n",
       "      <td>AZ</td>\n",
       "      <td>38060</td>\n",
       "      <td>852</td>\n",
       "      <td>30.0</td>\n",
       "      <td>0</td>\n",
       "      <td>2.0</td>\n",
       "      <td>N</td>\n",
       "      <td>False</td>\n",
       "      <td>16</td>\n",
       "    </tr>\n",
       "    <tr>\n",
       "      <th>4</th>\n",
       "      <td>6.773390e+11</td>\n",
       "      <td>2/1/2000</td>\n",
       "      <td>C</td>\n",
       "      <td>Other</td>\n",
       "      <td>7.750</td>\n",
       "      <td>7.750</td>\n",
       "      <td>189000</td>\n",
       "      <td>360</td>\n",
       "      <td>12/1/1999</td>\n",
       "      <td>2/1/2000</td>\n",
       "      <td>...</td>\n",
       "      <td>P</td>\n",
       "      <td>IN</td>\n",
       "      <td>29140</td>\n",
       "      <td>479</td>\n",
       "      <td>NaN</td>\n",
       "      <td>0</td>\n",
       "      <td>NaN</td>\n",
       "      <td>N</td>\n",
       "      <td>False</td>\n",
       "      <td>14</td>\n",
       "    </tr>\n",
       "  </tbody>\n",
       "</table>\n",
       "<p>5 rows × 34 columns</p>\n",
       "</div>"
      ],
      "text/plain": [
       "            LID       MRP CHANNEL                   SELLER  ORATE  CRATE  \\\n",
       "0  8.118470e+11  3/1/2000       C   Suntrust Mortgage Inc.  8.375  8.375   \n",
       "1  9.288980e+11  2/1/2000       C             Amtrust Bank  7.500  7.500   \n",
       "2  2.229740e+11  1/1/2000       C  Jpmorgan Chase Bank, Na  7.750  7.750   \n",
       "3  5.939500e+11  2/1/2000       B    Bank Of America, N.A.  8.625  8.625   \n",
       "4  6.773390e+11  2/1/2000       C                    Other  7.750  7.750   \n",
       "\n",
       "     OUPB  OLTERM      ODATE       FPD  ...  OCCSTAT  STATE    MSA  ZIP   MIP  \\\n",
       "0   58000     360   7/1/1999  9/1/1999  ...        P     OK  36420  730   NaN   \n",
       "1  204000     180  12/1/1999  2/1/2000  ...        P     WA  48300  988   NaN   \n",
       "2  181000     360  12/1/1999  2/1/2000  ...        P     VA  40060  238  30.0   \n",
       "3  135000     360   1/1/2000  3/1/2000  ...        P     AZ  38060  852  30.0   \n",
       "4  189000     360  12/1/1999  2/1/2000  ...        P     IN  29140  479   NaN   \n",
       "\n",
       "   CLDS  MIT  RMI  FORECLOSED  NMONTHS  \n",
       "0     0  NaN    N       False       12  \n",
       "1     0  NaN    N       False       21  \n",
       "2     0  1.0    N       False       54  \n",
       "3     0  2.0    N       False       16  \n",
       "4     0  NaN    N       False       14  \n",
       "\n",
       "[5 rows x 34 columns]"
      ]
     },
     "execution_count": 3,
     "metadata": {},
     "output_type": "execute_result"
    }
   ],
   "source": [
    "df.head()"
   ]
  },
  {
   "cell_type": "code",
   "execution_count": 7,
   "id": "feacc303-83a4-4987-9b12-29bc6bd88753",
   "metadata": {},
   "outputs": [
    {
     "data": {
      "text/plain": [
       "2247"
      ]
     },
     "execution_count": 7,
     "metadata": {},
     "output_type": "execute_result"
    }
   ],
   "source": [
    "sum(df.FORECLOSED)"
   ]
  },
  {
   "cell_type": "code",
   "execution_count": 8,
   "id": "ac94f746-09b4-4259-a314-f288da0c046f",
   "metadata": {},
   "outputs": [
    {
     "data": {
      "text/plain": [
       "(164575, 34)"
      ]
     },
     "execution_count": 8,
     "metadata": {},
     "output_type": "execute_result"
    }
   ],
   "source": [
    "df.shape"
   ]
  },
  {
   "cell_type": "code",
   "execution_count": 4,
   "id": "83ea41e5-d78c-4d97-886f-53f5c6691635",
   "metadata": {},
   "outputs": [
    {
     "data": {
      "text/html": [
       "<div>\n",
       "<style scoped>\n",
       "    .dataframe tbody tr th:only-of-type {\n",
       "        vertical-align: middle;\n",
       "    }\n",
       "\n",
       "    .dataframe tbody tr th {\n",
       "        vertical-align: top;\n",
       "    }\n",
       "\n",
       "    .dataframe thead th {\n",
       "        text-align: right;\n",
       "    }\n",
       "</style>\n",
       "<table border=\"1\" class=\"dataframe\">\n",
       "  <thead>\n",
       "    <tr style=\"text-align: right;\">\n",
       "      <th></th>\n",
       "      <th>abbreviated_name</th>\n",
       "      <th>dtype</th>\n",
       "      <th>isdate</th>\n",
       "      <th>used</th>\n",
       "    </tr>\n",
       "  </thead>\n",
       "  <tbody>\n",
       "    <tr>\n",
       "      <th>1</th>\n",
       "      <td>LID</td>\n",
       "      <td>object</td>\n",
       "      <td>0</td>\n",
       "      <td>True</td>\n",
       "    </tr>\n",
       "    <tr>\n",
       "      <th>2</th>\n",
       "      <td>MRP</td>\n",
       "      <td>object</td>\n",
       "      <td>1</td>\n",
       "      <td>True</td>\n",
       "    </tr>\n",
       "    <tr>\n",
       "      <th>3</th>\n",
       "      <td>CHANNEL</td>\n",
       "      <td>object</td>\n",
       "      <td>0</td>\n",
       "      <td>True</td>\n",
       "    </tr>\n",
       "    <tr>\n",
       "      <th>4</th>\n",
       "      <td>SELLER</td>\n",
       "      <td>object</td>\n",
       "      <td>0</td>\n",
       "      <td>True</td>\n",
       "    </tr>\n",
       "    <tr>\n",
       "      <th>7</th>\n",
       "      <td>ORATE</td>\n",
       "      <td>np.float64</td>\n",
       "      <td>0</td>\n",
       "      <td>True</td>\n",
       "    </tr>\n",
       "    <tr>\n",
       "      <th>8</th>\n",
       "      <td>CRATE</td>\n",
       "      <td>np.float64</td>\n",
       "      <td>0</td>\n",
       "      <td>True</td>\n",
       "    </tr>\n",
       "    <tr>\n",
       "      <th>9</th>\n",
       "      <td>OUPB</td>\n",
       "      <td>np.float64</td>\n",
       "      <td>0</td>\n",
       "      <td>True</td>\n",
       "    </tr>\n",
       "    <tr>\n",
       "      <th>12</th>\n",
       "      <td>OLTERM</td>\n",
       "      <td>np.float64</td>\n",
       "      <td>0</td>\n",
       "      <td>True</td>\n",
       "    </tr>\n",
       "    <tr>\n",
       "      <th>13</th>\n",
       "      <td>ODATE</td>\n",
       "      <td>object</td>\n",
       "      <td>1</td>\n",
       "      <td>True</td>\n",
       "    </tr>\n",
       "    <tr>\n",
       "      <th>14</th>\n",
       "      <td>FPD</td>\n",
       "      <td>object</td>\n",
       "      <td>1</td>\n",
       "      <td>True</td>\n",
       "    </tr>\n",
       "    <tr>\n",
       "      <th>15</th>\n",
       "      <td>LA</td>\n",
       "      <td>np.float64</td>\n",
       "      <td>0</td>\n",
       "      <td>True</td>\n",
       "    </tr>\n",
       "    <tr>\n",
       "      <th>16</th>\n",
       "      <td>TMTLM</td>\n",
       "      <td>np.float64</td>\n",
       "      <td>0</td>\n",
       "      <td>True</td>\n",
       "    </tr>\n",
       "    <tr>\n",
       "      <th>17</th>\n",
       "      <td>RMTM</td>\n",
       "      <td>np.float64</td>\n",
       "      <td>0</td>\n",
       "      <td>True</td>\n",
       "    </tr>\n",
       "    <tr>\n",
       "      <th>18</th>\n",
       "      <td>MDATE</td>\n",
       "      <td>object</td>\n",
       "      <td>0</td>\n",
       "      <td>True</td>\n",
       "    </tr>\n",
       "    <tr>\n",
       "      <th>19</th>\n",
       "      <td>LOTV</td>\n",
       "      <td>np.float64</td>\n",
       "      <td>0</td>\n",
       "      <td>True</td>\n",
       "    </tr>\n",
       "    <tr>\n",
       "      <th>20</th>\n",
       "      <td>CLTV</td>\n",
       "      <td>np.float64</td>\n",
       "      <td>0</td>\n",
       "      <td>True</td>\n",
       "    </tr>\n",
       "    <tr>\n",
       "      <th>21</th>\n",
       "      <td>NB</td>\n",
       "      <td>np.float64</td>\n",
       "      <td>0</td>\n",
       "      <td>True</td>\n",
       "    </tr>\n",
       "    <tr>\n",
       "      <th>22</th>\n",
       "      <td>DTI</td>\n",
       "      <td>np.float64</td>\n",
       "      <td>0</td>\n",
       "      <td>True</td>\n",
       "    </tr>\n",
       "    <tr>\n",
       "      <th>23</th>\n",
       "      <td>BCSAO</td>\n",
       "      <td>np.float64</td>\n",
       "      <td>0</td>\n",
       "      <td>True</td>\n",
       "    </tr>\n",
       "    <tr>\n",
       "      <th>24</th>\n",
       "      <td>CBCSAO</td>\n",
       "      <td>np.float64</td>\n",
       "      <td>0</td>\n",
       "      <td>True</td>\n",
       "    </tr>\n",
       "    <tr>\n",
       "      <th>25</th>\n",
       "      <td>FTHBI</td>\n",
       "      <td>object</td>\n",
       "      <td>0</td>\n",
       "      <td>True</td>\n",
       "    </tr>\n",
       "    <tr>\n",
       "      <th>26</th>\n",
       "      <td>LP</td>\n",
       "      <td>object</td>\n",
       "      <td>0</td>\n",
       "      <td>True</td>\n",
       "    </tr>\n",
       "    <tr>\n",
       "      <th>27</th>\n",
       "      <td>PTYPE</td>\n",
       "      <td>object</td>\n",
       "      <td>0</td>\n",
       "      <td>True</td>\n",
       "    </tr>\n",
       "    <tr>\n",
       "      <th>28</th>\n",
       "      <td>NUNITS</td>\n",
       "      <td>np.float64</td>\n",
       "      <td>0</td>\n",
       "      <td>True</td>\n",
       "    </tr>\n",
       "    <tr>\n",
       "      <th>29</th>\n",
       "      <td>OCCSTAT</td>\n",
       "      <td>object</td>\n",
       "      <td>0</td>\n",
       "      <td>True</td>\n",
       "    </tr>\n",
       "    <tr>\n",
       "      <th>30</th>\n",
       "      <td>STATE</td>\n",
       "      <td>object</td>\n",
       "      <td>0</td>\n",
       "      <td>True</td>\n",
       "    </tr>\n",
       "    <tr>\n",
       "      <th>31</th>\n",
       "      <td>MSA</td>\n",
       "      <td>object</td>\n",
       "      <td>0</td>\n",
       "      <td>True</td>\n",
       "    </tr>\n",
       "    <tr>\n",
       "      <th>32</th>\n",
       "      <td>ZIP</td>\n",
       "      <td>object</td>\n",
       "      <td>0</td>\n",
       "      <td>True</td>\n",
       "    </tr>\n",
       "    <tr>\n",
       "      <th>33</th>\n",
       "      <td>MIP</td>\n",
       "      <td>np.float64</td>\n",
       "      <td>0</td>\n",
       "      <td>True</td>\n",
       "    </tr>\n",
       "    <tr>\n",
       "      <th>39</th>\n",
       "      <td>CLDS</td>\n",
       "      <td>object</td>\n",
       "      <td>0</td>\n",
       "      <td>True</td>\n",
       "    </tr>\n",
       "    <tr>\n",
       "      <th>72</th>\n",
       "      <td>MIT</td>\n",
       "      <td>object</td>\n",
       "      <td>0</td>\n",
       "      <td>True</td>\n",
       "    </tr>\n",
       "    <tr>\n",
       "      <th>80</th>\n",
       "      <td>RMI</td>\n",
       "      <td>object</td>\n",
       "      <td>0</td>\n",
       "      <td>True</td>\n",
       "    </tr>\n",
       "  </tbody>\n",
       "</table>\n",
       "</div>"
      ],
      "text/plain": [
       "   abbreviated_name       dtype  isdate  used\n",
       "1               LID      object       0  True\n",
       "2               MRP      object       1  True\n",
       "3           CHANNEL      object       0  True\n",
       "4            SELLER      object       0  True\n",
       "7             ORATE  np.float64       0  True\n",
       "8             CRATE  np.float64       0  True\n",
       "9              OUPB  np.float64       0  True\n",
       "12           OLTERM  np.float64       0  True\n",
       "13            ODATE      object       1  True\n",
       "14              FPD      object       1  True\n",
       "15               LA  np.float64       0  True\n",
       "16            TMTLM  np.float64       0  True\n",
       "17             RMTM  np.float64       0  True\n",
       "18            MDATE      object       0  True\n",
       "19             LOTV  np.float64       0  True\n",
       "20             CLTV  np.float64       0  True\n",
       "21               NB  np.float64       0  True\n",
       "22              DTI  np.float64       0  True\n",
       "23            BCSAO  np.float64       0  True\n",
       "24           CBCSAO  np.float64       0  True\n",
       "25            FTHBI      object       0  True\n",
       "26              LP       object       0  True\n",
       "27            PTYPE      object       0  True\n",
       "28           NUNITS  np.float64       0  True\n",
       "29          OCCSTAT      object       0  True\n",
       "30            STATE      object       0  True\n",
       "31              MSA      object       0  True\n",
       "32              ZIP      object       0  True\n",
       "33              MIP  np.float64       0  True\n",
       "39             CLDS      object       0  True\n",
       "72              MIT      object       0  True\n",
       "80              RMI      object       0  True"
      ]
     },
     "execution_count": 4,
     "metadata": {},
     "output_type": "execute_result"
    }
   ],
   "source": [
    "varU"
   ]
  },
  {
   "cell_type": "markdown",
   "id": "2c1b36d4-533c-4a7e-84b1-20f8513de1e3",
   "metadata": {},
   "source": [
    "## Dropping Useless Features"
   ]
  },
  {
   "cell_type": "code",
   "execution_count": 5,
   "id": "e42aa733-3fff-4323-be70-22bdf9b22bfb",
   "metadata": {},
   "outputs": [
    {
     "name": "stdout",
     "output_type": "stream",
     "text": [
      "drop feature: ['CRATE', 'TMTLM', 'RMTM']\n"
     ]
    }
   ],
   "source": [
    "## Drop Highly Correlated features\n",
    "corrF =  df.iloc[:,:-2].corr().abs()\n",
    "upper = corrF.where(np.triu(np.ones(corrF.shape), k=1).astype(np.bool))\n",
    "to_drop = [column for column in upper.columns if any(upper[column] > 0.95)]\n",
    "print('drop feature:',to_drop)\n",
    "## Update Data for Regression\n",
    "dfR = df\n",
    "dfR.drop(to_drop, axis=1, inplace=True)"
   ]
  },
  {
   "cell_type": "code",
   "execution_count": 6,
   "id": "69b2478c-bdd6-460d-8258-fa85f7eee865",
   "metadata": {},
   "outputs": [
    {
     "name": "stdout",
     "output_type": "stream",
     "text": [
      "drop feature: ['LID', 'CLDS']\n"
     ]
    }
   ],
   "source": [
    "## Drop Low Correlated features with Response Variables\n",
    "corrR =  dfR.iloc[:,:-2].corrwith(dfR.iloc[:,-1]).abs()\n",
    "to_drop = ['LID','CLDS']\n",
    "print('drop feature:',to_drop)\n",
    "## Update Data for Regression\n",
    "dfR.drop(to_drop, axis=1, inplace=True)"
   ]
  },
  {
   "cell_type": "markdown",
   "id": "3b07a148-f83f-4d76-8ba5-e190cb8c49bf",
   "metadata": {},
   "source": [
    "## Replace Nan Values"
   ]
  },
  {
   "cell_type": "code",
   "execution_count": null,
   "id": "063e42ca-56c2-49dd-adb7-103b5dd570ad",
   "metadata": {},
   "outputs": [],
   "source": [
    "## Replace Nan with column means\n",
    "dfR_m = dfR.iloc[:,:-2].fillna(dfR.iloc[:,:-2].mean())\n",
    "corrR_m =  dfR_m.corrwith(dfR.iloc[:,-1]).abs()\n",
    "## Replace Nan with 0\n",
    "dfR_0 = dfR.iloc[:,:-2].fillna(0)\n",
    "corrR_0 = dfR_0.corrwith(dfR.iloc[:,-1]).abs()\n",
    "## Choose replace method with higher correlation with y\n",
    "corrM = pd.DataFrame({'corrR_m':corrR_m,'corrR0':corrR_0})\n",
    "for i in corrM.index:\n",
    "    if corrM.loc[i,'corrR_m'] <= corrM.loc[i,'corrR0']:\n",
    "        dfR[i] = dfR[i].fillna(0)\n",
    "    else:\n",
    "        dfR[i] = dfR[i].fillna(dfR[i].mean())"
   ]
  },
  {
   "cell_type": "markdown",
   "id": "672378b8-4d62-49eb-a877-7f03c646e263",
   "metadata": {},
   "source": [
    "## Visualize and Convert Features"
   ]
  },
  {
   "cell_type": "code",
   "execution_count": 9,
   "id": "b7a70160-9b3d-41cf-8f17-8a7cbfef7c46",
   "metadata": {},
   "outputs": [
    {
     "data": {
      "text/plain": [
       "Index(['MRP', 'CHANNEL', 'SELLER', 'ORATE', 'OUPB', 'OLTERM', 'ODATE', 'FPD',\n",
       "       'LA', 'MDATE', 'LOTV', 'CLTV', 'NB', 'DTI', 'BCSAO', 'CBCSAO', 'FTHBI',\n",
       "       'LP', 'PTYPE', 'NUNITS', 'OCCSTAT', 'STATE', 'MSA', 'ZIP', 'MIP', 'MIT',\n",
       "       'RMI', 'FORECLOSED', 'NMONTHS'],\n",
       "      dtype='object')"
      ]
     },
     "execution_count": 9,
     "metadata": {},
     "output_type": "execute_result"
    }
   ],
   "source": [
    "dfR.columns"
   ]
  },
  {
   "cell_type": "code",
   "execution_count": 10,
   "id": "d25d2d95-f796-4ee7-a7a8-6ca10c2a2dc5",
   "metadata": {},
   "outputs": [
    {
     "data": {
      "text/plain": [
       "<AxesSubplot:xlabel='MRP', ylabel='NMONTHS'>"
      ]
     },
     "execution_count": 10,
     "metadata": {},
     "output_type": "execute_result"
    },
    {
     "data": {
      "image/png": "[encoded data removed]",
      "text/plain": [
       "<Figure size 432x288 with 1 Axes>"
      ]
     },
     "metadata": {
      "needs_background": "light"
     },
     "output_type": "display_data"
    }
   ],
   "source": [
    "MRP = pd.to_datetime(dfR[\"MRP\"])\n",
    "MRP = MRP.dt.month\n",
    "dfC = pd.DataFrame({'MRP':MRP,'NMONTHS':dfR.NMONTHS})\n",
    "sns.regplot(x='MRP', y='NMONTHS',data=dfC,fit_reg=False,x_bins=3)"
   ]
  },
  {
   "cell_type": "code",
   "execution_count": 11,
   "id": "c72b6b1c-a6f4-4d58-9497-a66260f36e46",
   "metadata": {},
   "outputs": [],
   "source": [
    "# dfR.CHANNEL.hist()\n",
    "dfC['CHANNEL']=dfR.CHANNEL\n",
    "dfC['CHANNEL']=dfC['CHANNEL'].astype('category')\n",
    "# sns.regplot(x='CHANNEL', y='NMONTHS',data=dfC, fit_reg=False,x_bins=3)\n",
    "dfC['SELLER']=dfR.SELLER\n",
    "dfC['SELLER']=dfC['SELLER'].astype('category')\n",
    "dfC['FTHBI']=dfR.FTHBI\n",
    "dfC['FTHBI']=dfC['FTHBI'].astype('category')\n",
    "dfC['LP']=dfR.LP\n",
    "dfC['LP']=dfC['LP'].astype('category')\n",
    "dfC['PTYPE']=dfR.PTYPE\n",
    "dfC['PTYPE']=dfC['PTYPE'].astype('category')\n",
    "dfC['NUNITS']=dfR.NUNITS\n",
    "dfC['NUNITS']=dfC['NUNITS'].astype('category')\n",
    "dfC['OCCSTAT']=dfR.OCCSTAT\n",
    "dfC['OCCSTAT']=dfC['OCCSTAT'].astype('category')\n",
    "dfC['STATE']=dfR.STATE\n",
    "dfC['STATE']=dfC['STATE'].astype('category')\n",
    "dfC['RMI']=dfR.RMI\n",
    "dfC['RMI']=dfC['RMI'].astype('category')\n",
    "# replace with numeric values\n",
    "cat_columns = dfC.select_dtypes(['category']).columns\n",
    "dfC[cat_columns] = dfC[cat_columns].apply(lambda x: x.cat.codes)"
   ]
  },
  {
   "cell_type": "code",
   "execution_count": 12,
   "id": "9fbd3d6b-21fb-46a1-a9f3-50bf3ea17b3e",
   "metadata": {},
   "outputs": [
    {
     "data": {
      "text/plain": [
       "<AxesSubplot:xlabel='CHANNEL', ylabel='NMONTHS'>"
      ]
     },
     "execution_count": 12,
     "metadata": {},
     "output_type": "execute_result"
    },
    {
     "data": {
      "image/png": "[encoded data removed]",
      "text/plain": [
       "<Figure size 432x288 with 1 Axes>"
      ]
     },
     "metadata": {
      "needs_background": "light"
     },
     "output_type": "display_data"
    }
   ],
   "source": [
    "dfC[\"CHANNEL\"] = dfC.CHANNEL.replace(0,1.75)\n",
    "sns.regplot(x='CHANNEL', y='NMONTHS',data=dfC,fit_reg=False,x_bins=4)"
   ]
  },
  {
   "cell_type": "code",
   "execution_count": 13,
   "id": "6cab2717-78ec-4e1a-b63c-b8966e84d195",
   "metadata": {},
   "outputs": [
    {
     "data": {
      "text/plain": [
       "<AxesSubplot:xlabel='ORATE', ylabel='NMONTHS'>"
      ]
     },
     "execution_count": 13,
     "metadata": {},
     "output_type": "execute_result"
    },
    {
     "data": {
      "image/png": "[encoded data removed]",
      "text/plain": [
       "<Figure size 432x288 with 1 Axes>"
      ]
     },
     "metadata": {
      "needs_background": "light"
     },
     "output_type": "display_data"
    }
   ],
   "source": [
    "dfC['ORATE'] = dfR.ORATE\n",
    "sns.regplot(x='ORATE', y='NMONTHS',data=dfC, fit_reg=False,x_bins=50)"
   ]
  },
  {
   "cell_type": "code",
   "execution_count": 14,
   "id": "134bdad9-b192-4186-8a64-e2c6d217b9c2",
   "metadata": {},
   "outputs": [
    {
     "data": {
      "text/plain": [
       "<AxesSubplot:xlabel='OUPB', ylabel='NMONTHS'>"
      ]
     },
     "execution_count": 14,
     "metadata": {},
     "output_type": "execute_result"
    },
    {
     "data": {
      "image/png": "[encoded data removed]",
      "text/plain": [
       "<Figure size 432x288 with 1 Axes>"
      ]
     },
     "metadata": {
      "needs_background": "light"
     },
     "output_type": "display_data"
    }
   ],
   "source": [
    "dfC[\"OUPB\"]=np.log(dfR.OUPB)\n",
    "sns.regplot(x='OUPB', y='NMONTHS',data=dfC, fit_reg=False,x_bins=50)"
   ]
  },
  {
   "cell_type": "code",
   "execution_count": 15,
   "id": "4949e703-714a-4701-82a5-a6a6b49c7c26",
   "metadata": {},
   "outputs": [
    {
     "data": {
      "text/plain": [
       "<AxesSubplot:xlabel='OLTERM', ylabel='NMONTHS'>"
      ]
     },
     "execution_count": 15,
     "metadata": {},
     "output_type": "execute_result"
    },
    {
     "data": {
      "image/png": "[encoded data removed]",
      "text/plain": [
       "<Figure size 432x288 with 1 Axes>"
      ]
     },
     "metadata": {
      "needs_background": "light"
     },
     "output_type": "display_data"
    }
   ],
   "source": [
    "dfC['OLTERM'] = dfR.OLTERM\n",
    "sns.regplot(x='OLTERM', y='NMONTHS',data=dfC,fit_reg=False,x_bins=200)"
   ]
  },
  {
   "cell_type": "code",
   "execution_count": 16,
   "id": "a7120e2d-9aee-4dad-a690-48d474c86e74",
   "metadata": {},
   "outputs": [
    {
     "data": {
      "text/plain": [
       "<AxesSubplot:xlabel='ODATE', ylabel='NMONTHS'>"
      ]
     },
     "execution_count": 16,
     "metadata": {},
     "output_type": "execute_result"
    },
    {
     "data": {
      "image/png": "[encoded data removed]",
      "text/plain": [
       "<Figure size 432x288 with 1 Axes>"
      ]
     },
     "metadata": {
      "needs_background": "light"
     },
     "output_type": "display_data"
    }
   ],
   "source": [
    "dfR.ODATE.value_counts()\n",
    "ODATE_dM = pd.to_datetime(dfR[\"ODATE\"])-min(pd.to_datetime(dfR[\"ODATE\"]))\n",
    "dfC[\"ODATE\"] = ODATE_dM / np.timedelta64(1, 'M')\n",
    "sns.regplot(x=\"ODATE\", y='NMONTHS',data=dfC,fit_reg=False,x_bins=1000)"
   ]
  },
  {
   "cell_type": "code",
   "execution_count": 17,
   "id": "fd3ecb62-ccda-4670-910c-9d1822cae4fb",
   "metadata": {},
   "outputs": [
    {
     "data": {
      "text/plain": [
       "<AxesSubplot:xlabel='FPD', ylabel='NMONTHS'>"
      ]
     },
     "execution_count": 17,
     "metadata": {},
     "output_type": "execute_result"
    },
    {
     "data": {
      "image/png": "[encoded data removed]",
      "text/plain": [
       "<Figure size 432x288 with 1 Axes>"
      ]
     },
     "metadata": {
      "needs_background": "light"
     },
     "output_type": "display_data"
    }
   ],
   "source": [
    "dfR.FPD.value_counts()\n",
    "FPD_dM = pd.to_datetime(dfR[\"FPD\"])-min(pd.to_datetime(dfR[\"FPD\"]))\n",
    "dfC[\"FPD\"] = FPD_dM / np.timedelta64(1, 'M')\n",
    "sns.regplot(x=\"FPD\", y='NMONTHS',data=dfC,fit_reg=False,x_bins=100)"
   ]
  },
  {
   "cell_type": "code",
   "execution_count": 18,
   "id": "def960eb-d7be-4c24-a989-b7bc35a69d4e",
   "metadata": {},
   "outputs": [],
   "source": [
    "dfC.FPD.corr(dfC.ODATE)\n",
    "dfC.drop('FPD', axis=1, inplace=True)"
   ]
  },
  {
   "cell_type": "code",
   "execution_count": 19,
   "id": "6f0a3c4d-d127-4634-a016-ed08235bcb39",
   "metadata": {},
   "outputs": [
    {
     "data": {
      "text/plain": [
       "<AxesSubplot:xlabel='LA', ylabel='NMONTHS'>"
      ]
     },
     "execution_count": 19,
     "metadata": {},
     "output_type": "execute_result"
    },
    {
     "data": {
      "image/png": "[encoded data removed]",
      "text/plain": [
       "<Figure size 432x288 with 1 Axes>"
      ]
     },
     "metadata": {
      "needs_background": "light"
     },
     "output_type": "display_data"
    }
   ],
   "source": [
    "dfC['LA'] = dfR.LA\n",
    "sns.regplot(x=\"LA\", y='NMONTHS',data=dfC,fit_reg=False,x_bins=100)"
   ]
  },
  {
   "cell_type": "code",
   "execution_count": 20,
   "id": "570a5182-2b28-4bfd-b8fc-a9072c28727d",
   "metadata": {},
   "outputs": [
    {
     "data": {
      "image/png": "[encoded data removed]",
      "text/plain": [
       "<Figure size 432x288 with 1 Axes>"
      ]
     },
     "metadata": {
      "needs_background": "light"
     },
     "output_type": "display_data"
    }
   ],
   "source": [
    "# set(dfR.DTI.isna())\n",
    "sns.regplot(x='DTI', y=\"NMONTHS\",data=dfR,fit_reg=False,x_bins=50)\n",
    "dfC[\"DTI\"] = dfR.DTI.fillna(dfR.DTI.mean())"
   ]
  },
  {
   "cell_type": "code",
   "execution_count": 21,
   "id": "a3707f64-20f5-43b6-ac49-8782328909ab",
   "metadata": {},
   "outputs": [
    {
     "data": {
      "image/png": "[encoded data removed]",
      "text/plain": [
       "<Figure size 432x288 with 1 Axes>"
      ]
     },
     "metadata": {
      "needs_background": "light"
     },
     "output_type": "display_data"
    }
   ],
   "source": [
    "# set(dfR.DTI.isna())\n",
    "sns.regplot(x=\"LOTV\", y=\"NMONTHS\",data=dfR,fit_reg=False,x_bins=50)\n",
    "dfC[\"LOTV\"] = dfR.LOTV.fillna(dfR.LOTV.mean())"
   ]
  },
  {
   "cell_type": "code",
   "execution_count": null,
   "id": "e9a2d648-5754-4399-a90b-a1b71dc310e8",
   "metadata": {},
   "outputs": [],
   "source": []
  },
  {
   "cell_type": "markdown",
   "id": "c6c0db4d-a325-4b2c-b7d7-9a58961a9dbd",
   "metadata": {},
   "source": [
    "## Non-Trending or Repeatative Features"
   ]
  },
  {
   "cell_type": "code",
   "execution_count": 22,
   "id": "56e1be62-f1aa-4a91-a48e-20bdc7a6cf7d",
   "metadata": {},
   "outputs": [],
   "source": [
    "MDATE = dfR.MDATE.astype('string')\n",
    "for i in MDATE:\n",
    "    if len(i)<6:\n",
    "        MDATE[i] = '0'+i\n",
    "MDATE = pd.to_datetime(MDATE,format=\"%m%Y\")\n",
    "# MDATE=np.exp(dfC.MDATE)\n",
    "# sns.regplot(x=\"MDATE\", y='NMONTHS',data=dfC,fit_reg=False)\n",
    "# dfC.MDATE.value_counts()"
   ]
  },
  {
   "cell_type": "code",
   "execution_count": 23,
   "id": "c41aff19-72e7-4988-b7b3-f3661ba9795f",
   "metadata": {},
   "outputs": [
    {
     "data": {
      "text/plain": [
       "<AxesSubplot:xlabel='CLTV', ylabel='NMONTHS'>"
      ]
     },
     "execution_count": 23,
     "metadata": {},
     "output_type": "execute_result"
    },
    {
     "data": {
      "image/png": "[encoded data removed]",
      "text/plain": [
       "<Figure size 432x288 with 1 Axes>"
      ]
     },
     "metadata": {
      "needs_background": "light"
     },
     "output_type": "display_data"
    }
   ],
   "source": [
    "sns.regplot(x=\"CLTV\", y=\"NMONTHS\",data=dfR.loc[dfR.CLTV>0],fit_reg=False,x_bins=50)"
   ]
  },
  {
   "cell_type": "code",
   "execution_count": 24,
   "id": "6f1c67d5-ed9b-4fbb-b4d1-c369f5fa91a6",
   "metadata": {},
   "outputs": [
    {
     "data": {
      "text/plain": [
       "<AxesSubplot:xlabel='CBCSAO', ylabel='NMONTHS'>"
      ]
     },
     "execution_count": 24,
     "metadata": {},
     "output_type": "execute_result"
    },
    {
     "data": {
      "image/png": "[encoded data removed]",
      "text/plain": [
       "<Figure size 432x288 with 1 Axes>"
      ]
     },
     "metadata": {
      "needs_background": "light"
     },
     "output_type": "display_data"
    }
   ],
   "source": [
    "sns.regplot(x=\"CBCSAO\", y=\"NMONTHS\",data=dfR.loc[dfR.CBCSAO>0],fit_reg=False,x_bins=50)\n",
    "# highly correlated with BCSAO"
   ]
  },
  {
   "cell_type": "code",
   "execution_count": 25,
   "id": "a727a23b-ebf9-4a11-b24b-f8d83ebc6b61",
   "metadata": {},
   "outputs": [],
   "source": [
    "MIT = dfR.MIT.dropna()\n",
    "# MIT = dfR.MIT.fillna(np.mean(MIT))\n",
    "# sns.regplot(x=\"MIT\", y=\"NMONTHS\",data=dfR.loc[dfR.MIT.dropna()],fit_reg=False)"
   ]
  },
  {
   "cell_type": "markdown",
   "id": "c29646dd-6bd9-440b-a524-989e3e4df86b",
   "metadata": {},
   "source": [
    "## Non-Linear Trending Features"
   ]
  },
  {
   "cell_type": "code",
   "execution_count": 26,
   "id": "fd9f16c8-97aa-42cf-aea9-22b547e981a6",
   "metadata": {},
   "outputs": [
    {
     "data": {
      "text/plain": [
       "array([False,  True,  True, ..., False, False, False])"
      ]
     },
     "execution_count": 26,
     "metadata": {},
     "output_type": "execute_result"
    }
   ],
   "source": [
    "a=np.array(dfR.NB==1)\n",
    "b=np.array(dfR.NB==4)\n",
    "a+b"
   ]
  },
  {
   "cell_type": "code",
   "execution_count": 27,
   "id": "7bc04bd2-1f24-4dea-a7f5-a2aa79a4a64e",
   "metadata": {},
   "outputs": [
    {
     "data": {
      "text/plain": [
       "<AxesSubplot:xlabel='NB', ylabel='NMONTHS'>"
      ]
     },
     "execution_count": 27,
     "metadata": {},
     "output_type": "execute_result"
    },
    {
     "data": {
      "image/png": "[encoded data removed]",
      "text/plain": [
       "<Figure size 432x288 with 1 Axes>"
      ]
     },
     "metadata": {
      "needs_background": "light"
     },
     "output_type": "display_data"
    }
   ],
   "source": [
    "# sns.regplot(x='NB', y=\"NMONTHS\",data=dfR,fit_reg=False,x_bins=500)\n",
    "NB1 = pd.Series(dfR.NB==2,dtype='int')\n",
    "NB4 = pd.Series(dfR.NB==4,dtype='int')\n",
    "sns.regplot(x=NB1, y=\"NMONTHS\",data=dfR,fit_reg=False)\n",
    "# sns.regplot(x=NB4, y=\"NMONTHS\",data=dfR,fit_reg=False)"
   ]
  },
  {
   "cell_type": "code",
   "execution_count": 28,
   "id": "d646720d-0ca5-4b8c-a1ef-35842ae80b40",
   "metadata": {},
   "outputs": [
    {
     "data": {
      "text/plain": [
       "<AxesSubplot:xlabel='BCSAO', ylabel='NMONTHS'>"
      ]
     },
     "execution_count": 28,
     "metadata": {},
     "output_type": "execute_result"
    },
    {
     "data": {
      "image/png": "[encoded data removed]",
      "text/plain": [
       "<Figure size 432x288 with 1 Axes>"
      ]
     },
     "metadata": {
      "needs_background": "light"
     },
     "output_type": "display_data"
    }
   ],
   "source": [
    "sns.regplot(x='BCSAO', y=\"NMONTHS\",data=dfR,fit_reg=False,x_bins=50)"
   ]
  },
  {
   "cell_type": "code",
   "execution_count": 29,
   "id": "8313a8d9-7469-447e-9e4e-ff29f788b599",
   "metadata": {},
   "outputs": [
    {
     "data": {
      "text/plain": [
       "<AxesSubplot:xlabel='SELLER', ylabel='NMONTHS'>"
      ]
     },
     "execution_count": 29,
     "metadata": {},
     "output_type": "execute_result"
    },
    {
     "data": {
      "image/png": "[encoded data removed]",
      "text/plain": [
       "<Figure size 432x288 with 1 Axes>"
      ]
     },
     "metadata": {
      "needs_background": "light"
     },
     "output_type": "display_data"
    }
   ],
   "source": [
    "sns.regplot(x='SELLER', y='NMONTHS',data=dfC,fit_reg=False,x_bins=22)"
   ]
  },
  {
   "cell_type": "code",
   "execution_count": 30,
   "id": "d2920091-1918-4c92-b25d-1c8717039d4a",
   "metadata": {},
   "outputs": [
    {
     "data": {
      "text/plain": [
       "<AxesSubplot:xlabel='MSA', ylabel='NMONTHS'>"
      ]
     },
     "execution_count": 30,
     "metadata": {},
     "output_type": "execute_result"
    },
    {
     "data": {
      "image/png": "[encoded data removed]",
      "text/plain": [
       "<Figure size 432x288 with 1 Axes>"
      ]
     },
     "metadata": {
      "needs_background": "light"
     },
     "output_type": "display_data"
    }
   ],
   "source": [
    "# MSA=np.log(dfR.loc[MSA>0])\n",
    "# sns.regplot(x=MSA, y=\"NMONTHS\",data=dfR,fit_reg=False,x_bins=50)\n",
    "MSA=dfR.MSA.replace(0,np.mean(df.MSA))\n",
    "# MSA=np.log(MSA)\n",
    "sns.regplot(x=MSA, y=\"NMONTHS\",data=dfR,fit_reg=False,x_bins=10)"
   ]
  },
  {
   "cell_type": "code",
   "execution_count": 31,
   "id": "b96ddd92-4cb5-4fdf-bfdc-e6ea30d13f78",
   "metadata": {},
   "outputs": [
    {
     "data": {
      "text/plain": [
       "<AxesSubplot:xlabel='ZIP', ylabel='NMONTHS'>"
      ]
     },
     "execution_count": 31,
     "metadata": {},
     "output_type": "execute_result"
    },
    {
     "data": {
      "image/png": "[encoded data removed]",
      "text/plain": [
       "<Figure size 432x288 with 1 Axes>"
      ]
     },
     "metadata": {
      "needs_background": "light"
     },
     "output_type": "display_data"
    }
   ],
   "source": [
    "sns.regplot(x=\"ZIP\", y=\"NMONTHS\",data=dfR,fit_reg=False,x_bins=50)"
   ]
  },
  {
   "cell_type": "code",
   "execution_count": 32,
   "id": "9405e593-08d1-4a82-812f-71938a207e68",
   "metadata": {},
   "outputs": [
    {
     "data": {
      "text/plain": [
       "<AxesSubplot:xlabel='MIP', ylabel='NMONTHS'>"
      ]
     },
     "execution_count": 32,
     "metadata": {},
     "output_type": "execute_result"
    },
    {
     "data": {
      "image/png": "[encoded data removed]",
      "text/plain": [
       "<Figure size 432x288 with 1 Axes>"
      ]
     },
     "metadata": {
      "needs_background": "light"
     },
     "output_type": "display_data"
    }
   ],
   "source": [
    "MIP = dfR.MIP.fillna(0)\n",
    "MIP = MIP.replace(0,np.mean(MIP))\n",
    "sns.regplot(x=MIP, y=\"NMONTHS\",data=dfR,fit_reg=False,x_bins=50)"
   ]
  },
  {
   "cell_type": "markdown",
   "id": "a8bb4b8c-a299-4d42-b246-00c5a101a414",
   "metadata": {},
   "source": [
    "## Cross-Validation with Linear Regression"
   ]
  },
  {
   "cell_type": "code",
   "execution_count": 33,
   "id": "a6bdb32b-b598-4ee3-b0c0-69006931c35d",
   "metadata": {},
   "outputs": [
    {
     "data": {
      "text/plain": [
       "Index(['MRP', 'NMONTHS', 'CHANNEL', 'SELLER', 'FTHBI', 'LP', 'PTYPE', 'NUNITS',\n",
       "       'OCCSTAT', 'STATE', 'RMI', 'ORATE', 'OUPB', 'OLTERM', 'ODATE', 'LA',\n",
       "       'DTI', 'LOTV'],\n",
       "      dtype='object')"
      ]
     },
     "execution_count": 33,
     "metadata": {},
     "output_type": "execute_result"
    }
   ],
   "source": [
    "# dfC[\"NMONTHS\"] = dfR.NMONTHS\n",
    "dfC.columns"
   ]
  },
  {
   "cell_type": "code",
   "execution_count": 34,
   "id": "35f9cdc1-3783-4fca-afde-9f8537c92483",
   "metadata": {},
   "outputs": [],
   "source": [
    "# rescale response variable\n",
    "dfC[\"NMONTHS\"]=df.NMONTHS\n",
    "\n",
    "# train-test 70-30 split\n",
    "df_train, df_test = train_test_split(dfC, \n",
    "                                     train_size = 0.7, \n",
    "                                     test_size = 0.3, \n",
    "                                     random_state = 100)\n",
    "# rescale the features\n",
    "# scaler = MinMaxScaler()\n",
    "# # apply scaler() to all the numeric columns \n",
    "# scalable_vars = ['ORATE', 'OUPB', 'OLTERM', 'ODATE', 'DTI','LOTV']\n",
    "# df_train[scalable_vars] = scaler.fit_transform(df_train[scalable_vars])\n",
    "# df_test[scalable_vars] = scaler.fit_transform(df_test[scalable_vars])\n",
    "\n",
    "# divide into X_train, y_train, X_test, y_test\n",
    "y_train = df_train.pop('NMONTHS')\n",
    "X_train = df_train\n",
    "\n",
    "y_test = df_test.pop('NMONTHS')\n",
    "X_test = df_test"
   ]
  },
  {
   "cell_type": "code",
   "execution_count": 35,
   "id": "fb867719-0b0c-4d98-8651-84b5a7c5dd49",
   "metadata": {},
   "outputs": [],
   "source": [
    "lm = LinearRegression()\n",
    "lm.fit(X_train, y_train)\n",
    "\n",
    "rfe = RFE(lm, n_features_to_select=17)             \n",
    "rfe = rfe.fit(X_train, y_train)\n",
    "### tuples of (feature name, whether selected, ranking (> 1 for non-selected features))\n",
    "# list(zip(X_train.columns,rfe.support_,rfe.ranking_))"
   ]
  },
  {
   "cell_type": "code",
   "execution_count": 36,
   "id": "39a9fa68-8541-4e27-b2c1-e442de9e28b4",
   "metadata": {},
   "outputs": [
    {
     "name": "stdout",
     "output_type": "stream",
     "text": [
      "0.10260699504898196\n"
     ]
    }
   ],
   "source": [
    "y_pred = rfe.predict(X_test)\n",
    "r2 = sklearn.metrics.r2_score(y_test, y_pred)\n",
    "print(r2)"
   ]
  },
  {
   "cell_type": "markdown",
   "id": "3534ef35-ed12-4932-bcb7-f7015d7f5426",
   "metadata": {},
   "source": [
    "# Modity TEST DATA"
   ]
  },
  {
   "cell_type": "code",
   "execution_count": 37,
   "id": "66ed114a-2922-44e1-a148-2742048a76b9",
   "metadata": {},
   "outputs": [],
   "source": [
    "TEST = pd.read_csv(\"TEST.csv\") # (82288, 32)\n",
    "TEST[\"MRP\"]=pd.to_datetime(TEST[\"MRP\"]).dt.month\n",
    "# dfR.CHANNEL.hist()\n",
    "TEST['CHANNEL']=dfR.CHANNEL\n",
    "dfC['CHANNEL']=dfC['CHANNEL'].astype('category')\n",
    "# sns.regplot(x='CHANNEL', y='NMONTHS',data=dfC, fit_reg=False,x_bins=3)\n",
    "dfC['SELLER']=dfR.SELLER\n",
    "dfC['SELLER']=dfC['SELLER'].astype('category')\n",
    "dfC['FTHBI']=dfR.FTHBI\n",
    "dfC['FTHBI']=dfC['FTHBI'].astype('category')\n",
    "dfC['LP']=dfR.LP\n",
    "dfC['LP']=dfC['LP'].astype('category')\n",
    "dfC['PTYPE']=dfR.PTYPE\n",
    "dfC['PTYPE']=dfC['PTYPE'].astype('category')\n",
    "dfC['NUNITS']=dfR.NUNITS\n",
    "dfC['NUNITS']=dfC['NUNITS'].astype('category')\n",
    "dfC['OCCSTAT']=dfR.OCCSTAT\n",
    "dfC['OCCSTAT']=dfC['OCCSTAT'].astype('category')\n",
    "dfC['STATE']=dfR.STATE\n",
    "dfC['STATE']=dfC['STATE'].astype('category')\n",
    "dfC['RMI']=dfR.RMI\n",
    "dfC['RMI']=dfC['RMI'].astype('category')\n",
    "# replace with numeric values\n",
    "cat_columns = dfC.select_dtypes(['category']).columns\n",
    "dfC[cat_columns] = dfC[cat_columns].apply(lambda x: x.cat.codes)"
   ]
  },
  {
   "cell_type": "code",
   "execution_count": 38,
   "id": "e861b1a1-d647-41df-9cdc-d3f98b98eeb7",
   "metadata": {},
   "outputs": [
    {
     "data": {
      "text/html": [
       "<div>\n",
       "<style scoped>\n",
       "    .dataframe tbody tr th:only-of-type {\n",
       "        vertical-align: middle;\n",
       "    }\n",
       "\n",
       "    .dataframe tbody tr th {\n",
       "        vertical-align: top;\n",
       "    }\n",
       "\n",
       "    .dataframe thead th {\n",
       "        text-align: right;\n",
       "    }\n",
       "</style>\n",
       "<table border=\"1\" class=\"dataframe\">\n",
       "  <thead>\n",
       "    <tr style=\"text-align: right;\">\n",
       "      <th></th>\n",
       "      <th>LID</th>\n",
       "      <th>MRP</th>\n",
       "      <th>CHANNEL</th>\n",
       "      <th>SELLER</th>\n",
       "      <th>ORATE</th>\n",
       "      <th>CRATE</th>\n",
       "      <th>OUPB</th>\n",
       "      <th>OLTERM</th>\n",
       "      <th>ODATE</th>\n",
       "      <th>FPD</th>\n",
       "      <th>...</th>\n",
       "      <th>PTYPE</th>\n",
       "      <th>NUNITS</th>\n",
       "      <th>OCCSTAT</th>\n",
       "      <th>STATE</th>\n",
       "      <th>MSA</th>\n",
       "      <th>ZIP</th>\n",
       "      <th>MIP</th>\n",
       "      <th>CLDS</th>\n",
       "      <th>MIT</th>\n",
       "      <th>RMI</th>\n",
       "    </tr>\n",
       "  </thead>\n",
       "  <tbody>\n",
       "    <tr>\n",
       "      <th>0</th>\n",
       "      <td>7.940000e+11</td>\n",
       "      <td>3</td>\n",
       "      <td>C</td>\n",
       "      <td>Gmac Mortgage, Llc</td>\n",
       "      <td>8.625</td>\n",
       "      <td>8.625</td>\n",
       "      <td>111000</td>\n",
       "      <td>360</td>\n",
       "      <td>2/1/2000</td>\n",
       "      <td>4/1/2000</td>\n",
       "      <td>...</td>\n",
       "      <td>SF</td>\n",
       "      <td>1</td>\n",
       "      <td>P</td>\n",
       "      <td>MI</td>\n",
       "      <td>22420</td>\n",
       "      <td>484</td>\n",
       "      <td>NaN</td>\n",
       "      <td>0</td>\n",
       "      <td>NaN</td>\n",
       "      <td>N</td>\n",
       "    </tr>\n",
       "    <tr>\n",
       "      <th>1</th>\n",
       "      <td>2.770000e+11</td>\n",
       "      <td>1</td>\n",
       "      <td>C</td>\n",
       "      <td>Citimortgage, Inc.</td>\n",
       "      <td>8.250</td>\n",
       "      <td>8.250</td>\n",
       "      <td>105000</td>\n",
       "      <td>360</td>\n",
       "      <td>11/1/1999</td>\n",
       "      <td>1/1/2000</td>\n",
       "      <td>...</td>\n",
       "      <td>MH</td>\n",
       "      <td>1</td>\n",
       "      <td>P</td>\n",
       "      <td>NE</td>\n",
       "      <td>30700</td>\n",
       "      <td>684</td>\n",
       "      <td>17.0</td>\n",
       "      <td>0</td>\n",
       "      <td>1.0</td>\n",
       "      <td>N</td>\n",
       "    </tr>\n",
       "    <tr>\n",
       "      <th>2</th>\n",
       "      <td>5.070000e+11</td>\n",
       "      <td>1</td>\n",
       "      <td>C</td>\n",
       "      <td>Other</td>\n",
       "      <td>7.375</td>\n",
       "      <td>7.375</td>\n",
       "      <td>130000</td>\n",
       "      <td>180</td>\n",
       "      <td>11/1/1999</td>\n",
       "      <td>1/1/2000</td>\n",
       "      <td>...</td>\n",
       "      <td>SF</td>\n",
       "      <td>1</td>\n",
       "      <td>P</td>\n",
       "      <td>KS</td>\n",
       "      <td>0</td>\n",
       "      <td>679</td>\n",
       "      <td>NaN</td>\n",
       "      <td>0</td>\n",
       "      <td>NaN</td>\n",
       "      <td>N</td>\n",
       "    </tr>\n",
       "    <tr>\n",
       "      <th>3</th>\n",
       "      <td>4.930000e+11</td>\n",
       "      <td>3</td>\n",
       "      <td>B</td>\n",
       "      <td>Jpmorgan Chase Bank, Na</td>\n",
       "      <td>8.500</td>\n",
       "      <td>8.500</td>\n",
       "      <td>58000</td>\n",
       "      <td>180</td>\n",
       "      <td>1/1/2000</td>\n",
       "      <td>3/1/2000</td>\n",
       "      <td>...</td>\n",
       "      <td>SF</td>\n",
       "      <td>1</td>\n",
       "      <td>I</td>\n",
       "      <td>TX</td>\n",
       "      <td>26420</td>\n",
       "      <td>770</td>\n",
       "      <td>NaN</td>\n",
       "      <td>0</td>\n",
       "      <td>NaN</td>\n",
       "      <td>N</td>\n",
       "    </tr>\n",
       "    <tr>\n",
       "      <th>4</th>\n",
       "      <td>8.430000e+11</td>\n",
       "      <td>2</td>\n",
       "      <td>C</td>\n",
       "      <td>Netbank Funding Services</td>\n",
       "      <td>7.875</td>\n",
       "      <td>7.875</td>\n",
       "      <td>170000</td>\n",
       "      <td>360</td>\n",
       "      <td>1/1/2000</td>\n",
       "      <td>3/1/2000</td>\n",
       "      <td>...</td>\n",
       "      <td>SF</td>\n",
       "      <td>1</td>\n",
       "      <td>P</td>\n",
       "      <td>IL</td>\n",
       "      <td>16980</td>\n",
       "      <td>606</td>\n",
       "      <td>NaN</td>\n",
       "      <td>0</td>\n",
       "      <td>NaN</td>\n",
       "      <td>N</td>\n",
       "    </tr>\n",
       "  </tbody>\n",
       "</table>\n",
       "<p>5 rows × 32 columns</p>\n",
       "</div>"
      ],
      "text/plain": [
       "            LID  MRP CHANNEL                    SELLER  ORATE  CRATE    OUPB  \\\n",
       "0  7.940000e+11    3       C        Gmac Mortgage, Llc  8.625  8.625  111000   \n",
       "1  2.770000e+11    1       C        Citimortgage, Inc.  8.250  8.250  105000   \n",
       "2  5.070000e+11    1       C                     Other  7.375  7.375  130000   \n",
       "3  4.930000e+11    3       B   Jpmorgan Chase Bank, Na  8.500  8.500   58000   \n",
       "4  8.430000e+11    2       C  Netbank Funding Services  7.875  7.875  170000   \n",
       "\n",
       "   OLTERM      ODATE       FPD  ...  PTYPE  NUNITS  OCCSTAT  STATE    MSA  \\\n",
       "0     360   2/1/2000  4/1/2000  ...     SF       1        P     MI  22420   \n",
       "1     360  11/1/1999  1/1/2000  ...     MH       1        P     NE  30700   \n",
       "2     180  11/1/1999  1/1/2000  ...     SF       1        P     KS      0   \n",
       "3     180   1/1/2000  3/1/2000  ...     SF       1        I     TX  26420   \n",
       "4     360   1/1/2000  3/1/2000  ...     SF       1        P     IL  16980   \n",
       "\n",
       "   ZIP   MIP  CLDS  MIT  RMI  \n",
       "0  484   NaN     0  NaN    N  \n",
       "1  684  17.0     0  1.0    N  \n",
       "2  679   NaN     0  NaN    N  \n",
       "3  770   NaN     0  NaN    N  \n",
       "4  606   NaN     0  NaN    N  \n",
       "\n",
       "[5 rows x 32 columns]"
      ]
     },
     "execution_count": 38,
     "metadata": {},
     "output_type": "execute_result"
    }
   ],
   "source": [
    "\n",
    "\n",
    "TEST.head()"
   ]
  },
  {
   "cell_type": "code",
   "execution_count": 39,
   "id": "f717839c-b1b3-40c0-8dbf-ac77a55413ea",
   "metadata": {},
   "outputs": [],
   "source": [
    "from sklearn.model_selection import train_test_split, cross_val_score, GridSearchCV, StratifiedKFold\n",
    "from sklearn.ensemble import RandomForestClassifier\n",
    "from sklearn.metrics import f1_score, accuracy_score, roc_auc_score, plot_confusion_matrix, plot_roc_curve"
   ]
  },
  {
   "cell_type": "code",
   "execution_count": 40,
   "id": "fb4e3a89-a0ea-4490-aced-1aa4c82ae8b2",
   "metadata": {},
   "outputs": [
    {
     "name": "stdout",
     "output_type": "stream",
     "text": [
      "Acc: 0.03535526834109727\n",
      "F1: nan\n",
      "ROC AUC: nan\n"
     ]
    }
   ],
   "source": [
    "clf = RandomForestClassifier(random_state=10)\n",
    "print('Acc:', cross_val_score(clf, X_train, y_train, cv=StratifiedKFold(n_splits=5), scoring='accuracy').mean())\n",
    "print('F1:', cross_val_score(clf, X_train, y_train, cv=StratifiedKFold(n_splits=5), scoring='f1').mean())\n",
    "print('ROC AUC:', cross_val_score(clf, X_train, y_train, cv=StratifiedKFold(n_splits=5), scoring='roc_auc').mean())"
   ]
  },
  {
   "cell_type": "code",
   "execution_count": 41,
   "id": "865d5b36-e757-4474-b2d1-29d81953a5ef",
   "metadata": {},
   "outputs": [
    {
     "name": "stdout",
     "output_type": "stream",
     "text": [
      "R2_mean 0.10146900515304687\n",
      "18.974620977920125\n"
     ]
    }
   ],
   "source": [
    "folds = KFold(n_splits = 5, shuffle = True, random_state = 100)\n",
    "scores = cross_val_score(lm, X_train, y_train, scoring='r2', cv=5)\n",
    "print('R2_mean',scores.mean())\n",
    "print(sum(abs(y_pred-y_test))/len(y_test))"
   ]
  },
  {
   "cell_type": "code",
   "execution_count": null,
   "id": "ea6fac98-47f3-4295-85a0-323498c850d7",
   "metadata": {},
   "outputs": [],
   "source": []
  }
 ],
 "metadata": {
  "kernelspec": {
   "display_name": "Python 3 (ipykernel)",
   "language": "python",
   "name": "python3"
  },
  "language_info": {
   "codemirror_mode": {
    "name": "ipython",
    "version": 3
   },
   "file_extension": ".py",
   "mimetype": "text/x-python",
   "name": "python",
   "nbconvert_exporter": "python",
   "pygments_lexer": "ipython3",
   "version": "3.9.7"
  }
 },
 "nbformat": 4,
 "nbformat_minor": 5
}
