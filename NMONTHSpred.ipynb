{
 "cells": [
  {
   "cell_type": "markdown",
   "id": "0fd11792-c221-4180-8011-aa4b4162ad21",
   "metadata": {},
   "source": [
    "# Loan Performance Prediction\n",
    "This notebook shows my work of building a regression model to predict the number of months until the mortgage is taken off the books due to foreclosure, prepayment, etc.. (NMONTHS)"
   ]
  },
  {
   "cell_type": "markdown",
   "id": "8eb34a22-da90-4716-a50e-121b73b77cad",
   "metadata": {},
   "source": [
    "## 1. Load Dataset"
   ]
  },
  {
   "cell_type": "code",
   "execution_count": 142,
   "id": "dfd2c525-bf4d-41bf-9845-de1ca3dbac5e",
   "metadata": {},
   "outputs": [],
   "source": [
    "import pandas as pd\n",
    "import numpy as np\n",
    "import datetime\n",
    "import matplotlib.pyplot as plt \n",
    "import seaborn as sns\n",
    "import re\n",
    "\n",
    "import sklearn\n",
    "from sklearn.model_selection import train_test_split,StratifiedKFold\n",
    "from sklearn.preprocessing import MinMaxScaler,scale\n",
    "from sklearn.feature_selection import RFE\n",
    "from sklearn.linear_model import LinearRegression\n",
    "from sklearn.model_selection import cross_val_score,KFold,GridSearchCV\n",
    "from sklearn.pipeline import make_pipeline\n",
    "from sklearn.metrics import f1_score, accuracy_score\n",
    "import warnings # supress warnings\n",
    "warnings.filterwarnings('ignore')"
   ]
  },
  {
   "cell_type": "code",
   "execution_count": 157,
   "id": "1edb03a5-12fa-46b1-8dcd-25703d058f33",
   "metadata": {},
   "outputs": [],
   "source": [
    "## TRAIN\n",
    "df = pd.read_csv(\"TRAIN.csv\") # # (164575, 34)\n",
    "\n",
    "## TEST\n",
    "dfTEST = pd.read_csv(\"TEST.csv\")\n",
    "\n",
    "## VariablesUsed\n",
    "var = pd.read_csv(\"VariablesUsed.csv\") \n",
    "varU = var.loc[var.used] # (32, 4)"
   ]
  },
  {
   "cell_type": "markdown",
   "id": "6e59625e-7094-4dde-98ae-0cbb728e70c6",
   "metadata": {
    "tags": []
   },
   "source": [
    "## 2. Replace Nan Values"
   ]
  },
  {
   "cell_type": "code",
   "execution_count": 159,
   "id": "9099fd67-261e-4973-b2a9-6076c8fd2a0d",
   "metadata": {},
   "outputs": [],
   "source": [
    "## Replace Nan with column means\n",
    "num_Col = varU.loc[varU.dtype=='np.float64'].abbreviated_name\n",
    "dfR = df.fillna(df[list(num_Col)].mean())\n",
    "dfTEST = dfTEST.fillna(dfTEST[list(num_Col)].mean())"
   ]
  },
  {
   "cell_type": "markdown",
   "id": "5e33f3b7-e714-4c3a-ae78-a492e4990b16",
   "metadata": {
    "tags": []
   },
   "source": [
    "## 3. Feature Extraction"
   ]
  },
  {
   "cell_type": "code",
   "execution_count": 160,
   "id": "594d9fe6-96c4-4cf2-93bc-7b08f89497a8",
   "metadata": {},
   "outputs": [
    {
     "name": "stdout",
     "output_type": "stream",
     "text": [
      "drop feature: ['CRATE', 'TMTLM', 'RMTM']\n"
     ]
    }
   ],
   "source": [
    "## Drop repeated features\n",
    "corrF =  df.iloc[:,:-2].corr().abs()\n",
    "upper = corrF.where(np.triu(np.ones(corrF.shape), k=1).astype(np.bool))\n",
    "to_drop = [column for column in upper.columns if any(upper[column] > 0.95)]\n",
    "print('drop feature:',to_drop)\n",
    "## Update Data for Regression\n",
    "dfR = df\n",
    "dfR.drop(to_drop, axis=1, inplace=True)\n",
    "dfTEST.drop(to_drop, axis=1, inplace=True)"
   ]
  },
  {
   "cell_type": "code",
   "execution_count": 161,
   "id": "292b7026-bc31-4618-81bf-59c88d013b1f",
   "metadata": {},
   "outputs": [
    {
     "name": "stdout",
     "output_type": "stream",
     "text": [
      "drop feature: ['LID', 'CLDS']\n"
     ]
    }
   ],
   "source": [
    "## Drop Low Correlated features with Response Variables\n",
    "corrR =  dfR.iloc[:,:-2].corrwith(dfR.iloc[:,-1]).abs()\n",
    "to_drop2 = ['LID','CLDS']\n",
    "print('drop feature:',to_drop2)\n",
    "## Update Data for Regression\n",
    "dfR.drop(to_drop2, axis=1, inplace=True)\n",
    "dfTEST.drop(to_drop2, axis=1, inplace=True)"
   ]
  },
  {
   "cell_type": "markdown",
   "id": "3327b3f2-6f63-4fdb-95d1-626bd48e2b06",
   "metadata": {},
   "source": [
    "## 4. Visualize and Convert Features"
   ]
  },
  {
   "cell_type": "code",
   "execution_count": 162,
   "id": "152c06e0-c1d3-4834-a829-19642772fe91",
   "metadata": {},
   "outputs": [],
   "source": [
    "dfR[\"MRP\"] = pd.to_datetime(dfR[\"MRP\"]).dt.month\n",
    "dfTEST[\"MRP\"] = pd.to_datetime(dfTEST[\"MRP\"]).dt.month\n",
    "# sns.regplot(x='MRP', y='NMONTHS',data=dfR,fit_reg=False,x_bins=3)"
   ]
  },
  {
   "cell_type": "code",
   "execution_count": 163,
   "id": "74513452-45c2-44f8-b2c4-78f72c4e8e3b",
   "metadata": {},
   "outputs": [],
   "source": [
    "## Category Features\n",
    "# sns.regplot(x='CHANNEL', y='NMONTHS',data=dfC, fit_reg=False,x_bins=3)\n",
    "cat_F = ['CHANNEL','SELLER','FTHBI','LP','PTYPE','NUNITS','OCCSTAT','STATE','RMI']\n",
    "dfR[cat_F]=dfR[cat_F].astype('category')\n",
    "dfTEST[cat_F]=dfTEST[cat_F].astype('category')\n",
    "# replace with numeric values\n",
    "cat_columns = dfR.select_dtypes(['category']).columns\n",
    "dfR[cat_columns] = dfR[cat_columns].apply(lambda x: x.cat.codes)\n",
    "dfTEST[cat_columns] = dfTEST[cat_columns].apply(lambda x: x.cat.codes)"
   ]
  },
  {
   "cell_type": "code",
   "execution_count": 164,
   "id": "bc237d39-b118-4378-8964-2cafea0b8c8e",
   "metadata": {},
   "outputs": [],
   "source": [
    "dfR[\"CHANNEL\"] = dfR.CHANNEL.replace(0,1.75)\n",
    "# sns.regplot(x='CHANNEL', y='NMONTHS',data=dfR,fit_reg=False,x_bins=4)\n",
    "# sns.regplot(x='ORATE', y='NMONTHS',data=dfR, fit_reg=False,x_bins=50)\n",
    "dfR[\"OUPB\"]=np.log(dfR.OUPB)\n",
    "# sns.regplot(x='OUPB', y='NMONTHS',data=dfR, fit_reg=False,x_bins=50)\n",
    "ODATE_dM = pd.to_datetime(dfR[\"ODATE\"])-min(pd.to_datetime(dfR[\"ODATE\"]))\n",
    "dfR[\"ODATE\"] = ODATE_dM / np.timedelta64(1, 'M')\n",
    "# sns.regplot(x=\"ODATE\", y='NMONTHS',data=dfR,fit_reg=False,x_bins=1000)\n",
    "# sns.regplot(x='OLTERM', y='NMONTHS',data=dfR,fit_reg=False,x_bins=200)\n",
    "# sns.regplot(x=\"LA\", y='NMONTHS',data=dfC,fit_reg=False,x_bins=100)"
   ]
  },
  {
   "cell_type": "code",
   "execution_count": 165,
   "id": "edca8077-228b-4b70-ba50-0a7e8a2888de",
   "metadata": {},
   "outputs": [],
   "source": [
    "# dfR.FPD.value_counts()\n",
    "FPD_dM = pd.to_datetime(dfR[\"FPD\"])-min(pd.to_datetime(dfR[\"FPD\"]))\n",
    "# dfR[\"FPD\"] = FPD_dM / np.timedelta64(1, 'M')\n",
    "# sns.regplot(x=\"FPD\", y='NMONTHS',data=dfR,fit_reg=False,x_bins=100)\n",
    "# dfR.FPD.corr(dfC.ODATE)\n",
    "# dfR.drop('FPD', axis=1, inplace=True)"
   ]
  },
  {
   "cell_type": "code",
   "execution_count": 166,
   "id": "f87dc961-00d1-4335-ab68-0f6c7ce5e464",
   "metadata": {},
   "outputs": [],
   "source": [
    "dfTEST[\"CHANNEL\"] = dfTEST.CHANNEL.replace(0,1.75)\n",
    "dfTEST[\"OUPB\"]=np.log(dfTEST.OUPB)\n",
    "ODATE_dMTEST = pd.to_datetime(dfTEST[\"ODATE\"])-min(pd.to_datetime(dfTEST[\"ODATE\"]))\n",
    "dfTEST[\"ODATE\"] = ODATE_dMTEST / np.timedelta64(1, 'M')"
   ]
  },
  {
   "cell_type": "code",
   "execution_count": 167,
   "id": "96342695-940f-41c7-be16-3b8f0de37b12",
   "metadata": {},
   "outputs": [],
   "source": [
    "dfR[\"DTI\"] = dfR.DTI.fillna(dfR.DTI.mean())\n",
    "# sns.regplot(x='DTI', y=\"NMONTHS\",data=dfR,fit_reg=False,x_bins=50)\n",
    "dfTEST[\"DTI\"] = dfTEST.DTI.fillna(dfTEST.DTI.mean())"
   ]
  },
  {
   "cell_type": "code",
   "execution_count": 168,
   "id": "547c946e-ab28-4f62-ac34-dc2a4ab43916",
   "metadata": {},
   "outputs": [],
   "source": [
    "# set(dfR.DTI.isna())\n",
    "# sns.regplot(x=\"LOTV\", y=\"NMONTHS\",data=dfR,fit_reg=False,x_bins=50)\n",
    "dfR[\"LOTV\"] = dfR.LOTV.fillna(dfR.LOTV.mean())\n",
    "dfTEST[\"LOTV\"] = dfTEST.LOTV.fillna(dfTEST.LOTV.mean())"
   ]
  },
  {
   "cell_type": "markdown",
   "id": "545d213a-5345-44a5-86d3-418da0bace9c",
   "metadata": {
    "tags": []
   },
   "source": [
    "### Non-Trending or Repeatative Features"
   ]
  },
  {
   "cell_type": "code",
   "execution_count": 170,
   "id": "a8e8b78f-0304-4243-81ec-37e70cf478b0",
   "metadata": {},
   "outputs": [],
   "source": [
    "MDATE = dfR.MDATE.astype('string')\n",
    "for i,mdate in enumerate(MDATE):\n",
    "    if len(mdate)<6:\n",
    "        MDATE[i] = '0'+mdate\n",
    "    else:\n",
    "        MDATE[i] = mdate\n",
    "MDATE = pd.to_datetime(MDATE,format=\"%m%Y\")\n",
    "MDATE = (MDATE-min(MDATE))/np.timedelta64(1, 'Y')\n",
    "# MDATE=np.exp(dfC.MDATE)\n",
    "# sns.regplot(x=\"MDATE\", y='NMONTHS',data=dfC,fit_reg=False)\n",
    "# dfC.MDATE.value_counts()"
   ]
  },
  {
   "cell_type": "code",
   "execution_count": 171,
   "id": "8f3a1be8-e038-4a44-8857-f74e9064f9d4",
   "metadata": {},
   "outputs": [
    {
     "data": {
      "text/plain": [
       "<AxesSubplot:xlabel='CLTV', ylabel='NMONTHS'>"
      ]
     },
     "execution_count": 171,
     "metadata": {},
     "output_type": "execute_result"
    },
    {
     "data": {
      "image/png": "[encoded data removed]",
      "text/plain": [
       "<Figure size 432x288 with 1 Axes>"
      ]
     },
     "metadata": {
      "needs_background": "light"
     },
     "output_type": "display_data"
    }
   ],
   "source": [
    "sns.regplot(x=\"CLTV\", y=\"NMONTHS\",data=dfR.loc[dfR.CLTV>0],fit_reg=False,x_bins=50)"
   ]
  },
  {
   "cell_type": "code",
   "execution_count": 172,
   "id": "a79d7f04-74d5-4af2-b5c1-99662f7a8576",
   "metadata": {},
   "outputs": [
    {
     "data": {
      "text/plain": [
       "<AxesSubplot:xlabel='CBCSAO', ylabel='NMONTHS'>"
      ]
     },
     "execution_count": 172,
     "metadata": {},
     "output_type": "execute_result"
    },
    {
     "data": {
      "image/png": "[encoded data removed]",
      "text/plain": [
       "<Figure size 432x288 with 1 Axes>"
      ]
     },
     "metadata": {
      "needs_background": "light"
     },
     "output_type": "display_data"
    }
   ],
   "source": [
    "sns.regplot(x=\"CBCSAO\", y=\"NMONTHS\",data=dfR.loc[dfR.CBCSAO>0],fit_reg=False,x_bins=50)\n",
    "# highly correlated with BCSAO"
   ]
  },
  {
   "cell_type": "code",
   "execution_count": 173,
   "id": "32a41d87-644c-4840-9993-fad7400736d4",
   "metadata": {},
   "outputs": [],
   "source": [
    "MIT = dfR.MIT.fillna(dfR.MIT.mean())\n",
    "# sns.regplot(x=\"MIT\", y=\"NMONTHS\",data=dfR.loc[dfR.MIT.dropna()],fit_reg=False)"
   ]
  },
  {
   "cell_type": "code",
   "execution_count": 175,
   "id": "ae883c7b-dff9-428e-a77a-d29f314fdf4e",
   "metadata": {},
   "outputs": [
    {
     "data": {
      "text/plain": [
       "<AxesSubplot:xlabel='NB', ylabel='NMONTHS'>"
      ]
     },
     "execution_count": 175,
     "metadata": {},
     "output_type": "execute_result"
    },
    {
     "data": {
      "image/png": "[encoded data removed]",
      "text/plain": [
       "<Figure size 432x288 with 1 Axes>"
      ]
     },
     "metadata": {
      "needs_background": "light"
     },
     "output_type": "display_data"
    }
   ],
   "source": [
    "# sns.regplot(x='NB', y=\"NMONTHS\",data=dfR,fit_reg=False,x_bins=500)\n",
    "NB1 = pd.Series(dfR.NB==2,dtype='int')\n",
    "NB4 = pd.Series(dfR.NB==4,dtype='int')\n",
    "sns.regplot(x=NB1, y=\"NMONTHS\",data=dfR,fit_reg=False)\n",
    "# sns.regplot(x=NB4, y=\"NMONTHS\",data=dfR,fit_reg=False)"
   ]
  },
  {
   "cell_type": "code",
   "execution_count": 176,
   "id": "418644c1-882e-48c2-961a-5183a4a123a5",
   "metadata": {},
   "outputs": [],
   "source": [
    "## Useless/Repeated Features\n",
    "to_drop3 = ['FPD','MDATE','CLTV','CBCSAO','MIT','NB','BCSAO','MSA','ZIP','MIP',]\n",
    "dfR.drop(to_drop3, axis=1, inplace=True)\n",
    "dfTEST.drop(to_drop3, axis=1, inplace=True)"
   ]
  },
  {
   "cell_type": "code",
   "execution_count": 177,
   "id": "dbdfbffa-07c3-4153-b392-f9ac9d76a16c",
   "metadata": {},
   "outputs": [
    {
     "data": {
      "text/html": [
       "<div>\n",
       "<style scoped>\n",
       "    .dataframe tbody tr th:only-of-type {\n",
       "        vertical-align: middle;\n",
       "    }\n",
       "\n",
       "    .dataframe tbody tr th {\n",
       "        vertical-align: top;\n",
       "    }\n",
       "\n",
       "    .dataframe thead th {\n",
       "        text-align: right;\n",
       "    }\n",
       "</style>\n",
       "<table border=\"1\" class=\"dataframe\">\n",
       "  <thead>\n",
       "    <tr style=\"text-align: right;\">\n",
       "      <th></th>\n",
       "      <th>MRP</th>\n",
       "      <th>CHANNEL</th>\n",
       "      <th>SELLER</th>\n",
       "      <th>ORATE</th>\n",
       "      <th>OUPB</th>\n",
       "      <th>OLTERM</th>\n",
       "      <th>ODATE</th>\n",
       "      <th>LA</th>\n",
       "      <th>LOTV</th>\n",
       "      <th>DTI</th>\n",
       "      <th>FTHBI</th>\n",
       "      <th>LP</th>\n",
       "      <th>PTYPE</th>\n",
       "      <th>NUNITS</th>\n",
       "      <th>OCCSTAT</th>\n",
       "      <th>STATE</th>\n",
       "      <th>RMI</th>\n",
       "    </tr>\n",
       "  </thead>\n",
       "  <tbody>\n",
       "    <tr>\n",
       "      <th>0</th>\n",
       "      <td>3</td>\n",
       "      <td>2.00</td>\n",
       "      <td>7</td>\n",
       "      <td>8.625</td>\n",
       "      <td>11.617285</td>\n",
       "      <td>360</td>\n",
       "      <td>13.010534</td>\n",
       "      <td>0</td>\n",
       "      <td>71.0</td>\n",
       "      <td>36.0</td>\n",
       "      <td>0</td>\n",
       "      <td>1</td>\n",
       "      <td>4</td>\n",
       "      <td>0</td>\n",
       "      <td>1</td>\n",
       "      <td>22</td>\n",
       "      <td>0</td>\n",
       "    </tr>\n",
       "    <tr>\n",
       "      <th>1</th>\n",
       "      <td>1</td>\n",
       "      <td>1.00</td>\n",
       "      <td>3</td>\n",
       "      <td>8.250</td>\n",
       "      <td>11.561716</td>\n",
       "      <td>360</td>\n",
       "      <td>9.987885</td>\n",
       "      <td>1</td>\n",
       "      <td>90.0</td>\n",
       "      <td>55.0</td>\n",
       "      <td>0</td>\n",
       "      <td>1</td>\n",
       "      <td>2</td>\n",
       "      <td>0</td>\n",
       "      <td>1</td>\n",
       "      <td>29</td>\n",
       "      <td>0</td>\n",
       "    </tr>\n",
       "    <tr>\n",
       "      <th>2</th>\n",
       "      <td>1</td>\n",
       "      <td>2.00</td>\n",
       "      <td>14</td>\n",
       "      <td>7.375</td>\n",
       "      <td>11.775290</td>\n",
       "      <td>180</td>\n",
       "      <td>9.987885</td>\n",
       "      <td>1</td>\n",
       "      <td>61.0</td>\n",
       "      <td>19.0</td>\n",
       "      <td>0</td>\n",
       "      <td>1</td>\n",
       "      <td>4</td>\n",
       "      <td>0</td>\n",
       "      <td>1</td>\n",
       "      <td>16</td>\n",
       "      <td>0</td>\n",
       "    </tr>\n",
       "    <tr>\n",
       "      <th>3</th>\n",
       "      <td>3</td>\n",
       "      <td>1.75</td>\n",
       "      <td>10</td>\n",
       "      <td>8.500</td>\n",
       "      <td>10.968198</td>\n",
       "      <td>180</td>\n",
       "      <td>11.992033</td>\n",
       "      <td>1</td>\n",
       "      <td>70.0</td>\n",
       "      <td>38.0</td>\n",
       "      <td>0</td>\n",
       "      <td>0</td>\n",
       "      <td>4</td>\n",
       "      <td>0</td>\n",
       "      <td>0</td>\n",
       "      <td>44</td>\n",
       "      <td>0</td>\n",
       "    </tr>\n",
       "    <tr>\n",
       "      <th>4</th>\n",
       "      <td>2</td>\n",
       "      <td>1.00</td>\n",
       "      <td>12</td>\n",
       "      <td>7.875</td>\n",
       "      <td>12.043554</td>\n",
       "      <td>360</td>\n",
       "      <td>11.992033</td>\n",
       "      <td>0</td>\n",
       "      <td>80.0</td>\n",
       "      <td>25.0</td>\n",
       "      <td>1</td>\n",
       "      <td>1</td>\n",
       "      <td>4</td>\n",
       "      <td>0</td>\n",
       "      <td>1</td>\n",
       "      <td>14</td>\n",
       "      <td>0</td>\n",
       "    </tr>\n",
       "  </tbody>\n",
       "</table>\n",
       "</div>"
      ],
      "text/plain": [
       "   MRP  CHANNEL  SELLER  ORATE       OUPB  OLTERM      ODATE  LA  LOTV   DTI  \\\n",
       "0    3     2.00       7  8.625  11.617285     360  13.010534   0  71.0  36.0   \n",
       "1    1     1.00       3  8.250  11.561716     360   9.987885   1  90.0  55.0   \n",
       "2    1     2.00      14  7.375  11.775290     180   9.987885   1  61.0  19.0   \n",
       "3    3     1.75      10  8.500  10.968198     180  11.992033   1  70.0  38.0   \n",
       "4    2     1.00      12  7.875  12.043554     360  11.992033   0  80.0  25.0   \n",
       "\n",
       "   FTHBI  LP  PTYPE  NUNITS  OCCSTAT  STATE  RMI  \n",
       "0      0   1      4       0        1     22    0  \n",
       "1      0   1      2       0        1     29    0  \n",
       "2      0   1      4       0        1     16    0  \n",
       "3      0   0      4       0        0     44    0  \n",
       "4      1   1      4       0        1     14    0  "
      ]
     },
     "execution_count": 177,
     "metadata": {},
     "output_type": "execute_result"
    }
   ],
   "source": [
    "dfTEST.head()"
   ]
  },
  {
   "cell_type": "code",
   "execution_count": 180,
   "id": "98512ac7-8c80-42c2-abae-39df3e05323d",
   "metadata": {},
   "outputs": [
    {
     "data": {
      "text/plain": [
       "Index(['MRP', 'CHANNEL', 'SELLER', 'ORATE', 'OUPB', 'OLTERM', 'ODATE', 'LA',\n",
       "       'LOTV', 'DTI', 'FTHBI', 'LP', 'PTYPE', 'NUNITS', 'OCCSTAT', 'STATE',\n",
       "       'RMI', 'FORECLOSED', 'NMONTHS'],\n",
       "      dtype='object')"
      ]
     },
     "execution_count": 180,
     "metadata": {},
     "output_type": "execute_result"
    }
   ],
   "source": [
    "dfR.columns"
   ]
  },
  {
   "cell_type": "code",
   "execution_count": 181,
   "id": "220a9d62-be35-49ff-aa6c-81d9c081d680",
   "metadata": {},
   "outputs": [],
   "source": [
    "dfR.to_csv('dfR.csv')\n",
    "dfTEST.to_csv('dfTEST.csv') "
   ]
  },
  {
   "cell_type": "markdown",
   "id": "6813f5b8-78bc-4c4c-98ef-2185b69fa4bd",
   "metadata": {},
   "source": [
    "### 5. Train Model"
   ]
  },
  {
   "cell_type": "code",
   "execution_count": 182,
   "id": "10a8b617-4887-4f1f-8b87-6a391c154b5f",
   "metadata": {},
   "outputs": [],
   "source": [
    "# train-test 70-30 split\n",
    "df_train, df_test = train_test_split(dfR, \n",
    "                                     train_size = 0.7, \n",
    "                                     test_size = 0.3, \n",
    "                                     random_state = 100)\n",
    "y1_train = df_train.pop('NMONTHS')\n",
    "y2_train = df_train.pop('FORECLOSED')\n",
    "y2_train = y2_train.astype('float64')\n",
    "X_train = df_train\n",
    "\n",
    "y1_test = df_test.pop('NMONTHS')\n",
    "y2_test = df_test.pop('FORECLOSED')\n",
    "X_test = df_test"
   ]
  },
  {
   "cell_type": "code",
   "execution_count": 183,
   "id": "07a62591-cb7b-4843-b7f0-46bced15662e",
   "metadata": {},
   "outputs": [],
   "source": [
    "lm = LinearRegression()\n",
    "lm.fit(X_train, y1_train)\n",
    "\n",
    "rfe = RFE(lm, n_features_to_select=15)             \n",
    "rfe = rfe.fit(X_train, y1_train)"
   ]
  },
  {
   "cell_type": "code",
   "execution_count": 184,
   "id": "45fbef60-e2b2-432c-860f-ca99f94392f5",
   "metadata": {},
   "outputs": [
    {
     "data": {
      "text/plain": [
       "[('MRP', True, 1),\n",
       " ('CHANNEL', True, 1),\n",
       " ('SELLER', True, 1),\n",
       " ('ORATE', True, 1),\n",
       " ('OUPB', True, 1),\n",
       " ('OLTERM', False, 3),\n",
       " ('ODATE', True, 1),\n",
       " ('LA', True, 1),\n",
       " ('LOTV', True, 1),\n",
       " ('DTI', False, 2),\n",
       " ('FTHBI', True, 1),\n",
       " ('LP', True, 1),\n",
       " ('PTYPE', True, 1),\n",
       " ('NUNITS', True, 1),\n",
       " ('OCCSTAT', True, 1),\n",
       " ('STATE', True, 1),\n",
       " ('RMI', True, 1)]"
      ]
     },
     "execution_count": 184,
     "metadata": {},
     "output_type": "execute_result"
    }
   ],
   "source": [
    "list(zip(X_train.columns,rfe.support_,rfe.ranking_))"
   ]
  },
  {
   "cell_type": "markdown",
   "id": "45943e35-87d4-4e05-af48-3dae2452781f",
   "metadata": {},
   "source": [
    "*tuples of (feature name, whether selected, ranking (> 1 for non-selected features))*"
   ]
  },
  {
   "cell_type": "code",
   "execution_count": 185,
   "id": "408aa9f8-f2bf-4f31-bd57-762b53195893",
   "metadata": {},
   "outputs": [
    {
     "data": {
      "text/plain": [
       "0.10241351752629502"
      ]
     },
     "execution_count": 185,
     "metadata": {},
     "output_type": "execute_result"
    }
   ],
   "source": [
    "# lm simply-split prediction\n",
    "y1_pred = rfe.predict(X_test)\n",
    "rfe.score(X_test, y1_test)"
   ]
  },
  {
   "cell_type": "code",
   "execution_count": 186,
   "id": "ed3d9709-5a06-40ec-9082-fb6b0a8d1d9f",
   "metadata": {},
   "outputs": [
    {
     "name": "stdout",
     "output_type": "stream",
     "text": [
      "lm R^2 0.10141941154064746\n"
     ]
    }
   ],
   "source": [
    "# lm cross-validation\n",
    "folds = KFold(n_splits = 5, shuffle = True, random_state = 100)\n",
    "scores = cross_val_score(rfe, X_train, y1_train, scoring='r2', cv=5)\n",
    "print('lm R^2',scores.mean())"
   ]
  },
  {
   "cell_type": "markdown",
   "id": "8aae000c-ec59-460c-8009-2c10ab1fb8c9",
   "metadata": {},
   "source": [
    "## 6. Save Prediction on TEST.csv"
   ]
  },
  {
   "cell_type": "code",
   "execution_count": 187,
   "id": "3b06e22b-3250-4117-8565-c67f9696cd67",
   "metadata": {},
   "outputs": [],
   "source": [
    "NMONTHS_pred = rfe.predict(dfTEST)"
   ]
  },
  {
   "cell_type": "code",
   "execution_count": 188,
   "id": "4cbe11ba-3a49-4868-ac3b-4dafcf59d087",
   "metadata": {},
   "outputs": [],
   "source": [
    "TEST = pd.read_csv(\"TEST.csv\")"
   ]
  },
  {
   "cell_type": "code",
   "execution_count": 190,
   "id": "527af9ec-c5a7-40af-8222-da0d3e4713c9",
   "metadata": {},
   "outputs": [],
   "source": [
    "PREDS = pd.DataFrame({'LID':TEST.LID.astype('str'),\n",
    "                     'NMONTHS':NMONTHS_pred})\n",
    "PREDS.to_csv('PREDS.csv',index=False)"
   ]
  },
  {
   "cell_type": "code",
   "execution_count": null,
   "id": "56e01cb4-2c33-48ca-aa18-5004343da12b",
   "metadata": {},
   "outputs": [],
   "source": []
  }
 ],
 "metadata": {
  "kernelspec": {
   "display_name": "Python 3 (ipykernel)",
   "language": "python",
   "name": "python3"
  },
  "language_info": {
   "codemirror_mode": {
    "name": "ipython",
    "version": 3
   },
   "file_extension": ".py",
   "mimetype": "text/x-python",
   "name": "python",
   "nbconvert_exporter": "python",
   "pygments_lexer": "ipython3",
   "version": "3.9.7"
  }
 },
 "nbformat": 4,
 "nbformat_minor": 5
}
