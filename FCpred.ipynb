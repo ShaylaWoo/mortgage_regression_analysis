{
 "cells": [
  {
   "cell_type": "markdown",
   "id": "416409a9-ef25-4c2a-a2d0-9ac001c5d284",
   "metadata": {},
   "source": [
    "# Loan Performance Prediction\n",
    "This notebook shows my work of building a regression model to predict whether the mortgage foreclosed (FORECLOSED)"
   ]
  },
  {
   "cell_type": "code",
   "execution_count": 253,
   "id": "0680e3d3-d159-46c4-81c1-d8e1a247b223",
   "metadata": {},
   "outputs": [],
   "source": [
    "import pandas as pd\n",
    "import numpy as np\n",
    "import datetime\n",
    "import matplotlib.pyplot as plt \n",
    "import seaborn as sns\n",
    "import re\n",
    "\n",
    "import sklearn\n",
    "from sklearn.model_selection import train_test_split,StratifiedKFold\n",
    "from sklearn.preprocessing import MinMaxScaler,scale\n",
    "from sklearn.feature_selection import RFE\n",
    "from sklearn.model_selection import cross_val_score,KFold,GridSearchCV\n",
    "from sklearn.pipeline import make_pipeline\n",
    "from sklearn.ensemble import RandomForestClassifier\n",
    "from sklearn.metrics import f1_score, accuracy_score\n",
    "from sklearn.metrics import confusion_matrix\n",
    "from sklearn.linear_model import LogisticRegression\n",
    "import warnings # supress warnings\n",
    "warnings.filterwarnings('ignore')"
   ]
  },
  {
   "cell_type": "code",
   "execution_count": 254,
   "id": "72990322-22f2-4277-ba43-dd88215af7ee",
   "metadata": {},
   "outputs": [],
   "source": [
    "df = pd.read_csv(\"TRAIN.csv\")\n",
    "dfTEST = pd.read_csv(\"TEST.csv\")\n",
    "## TRAIN\n",
    "dfR = pd.read_csv(\"dfR.csv\",index_col=0) # # (164575, 19)\n",
    "## TEST\n",
    "dfF = pd.read_csv(\"dfTEST.csv\",index_col=0)"
   ]
  },
  {
   "cell_type": "code",
   "execution_count": 255,
   "id": "08833924-2366-4097-a0e4-ef9f34fdaba6",
   "metadata": {},
   "outputs": [
    {
     "data": {
      "text/plain": [
       "False    162328\n",
       "True       2247\n",
       "Name: FORECLOSED, dtype: int64"
      ]
     },
     "execution_count": 255,
     "metadata": {},
     "output_type": "execute_result"
    }
   ],
   "source": [
    "dfR.FORECLOSED.value_counts()"
   ]
  },
  {
   "cell_type": "markdown",
   "id": "67d01ca0-0b1f-48b5-b38d-b9c0f09f3faf",
   "metadata": {},
   "source": [
    "## Add Filtered Features"
   ]
  },
  {
   "cell_type": "code",
   "execution_count": 256,
   "id": "f6e86abc-20bf-495c-9253-d039985ddc93",
   "metadata": {},
   "outputs": [],
   "source": [
    "to_drop3 = ['FPD','MDATE','CLTV','CBCSAO','MIT','NB','BCSAO','MSA','ZIP','MIP',]\n",
    "dfR['CLDS']=df.CLDS"
   ]
  },
  {
   "cell_type": "code",
   "execution_count": 257,
   "id": "9246aaf9-eb06-4176-99fc-ccb5b3cee9fa",
   "metadata": {},
   "outputs": [],
   "source": [
    "MDATE = df.MDATE.astype('string')\n",
    "for i,mdate in enumerate(MDATE):\n",
    "    if len(mdate)<6:\n",
    "        MDATE[i] = '0'+mdate\n",
    "    else:\n",
    "        MDATE[i] = mdate\n",
    "MDATE = pd.to_datetime(MDATE,format=\"%m%Y\")\n",
    "MDATE = (MDATE-min(MDATE))/np.timedelta64(1, 'Y')\n",
    "# sns.barplot(y=MDATE, x='FORECLOSED',data=df)"
   ]
  },
  {
   "cell_type": "code",
   "execution_count": 258,
   "id": "525cdb17-076a-4547-b51d-2fa24ced05ca",
   "metadata": {},
   "outputs": [],
   "source": [
    "dfR['NB']=df.NB\n",
    "dfR['NB']=dfR.NB.fillna(dfR.NB.median())"
   ]
  },
  {
   "cell_type": "code",
   "execution_count": 259,
   "id": "72b6aa4f-6b3c-4780-a5c5-eb45305eeafb",
   "metadata": {},
   "outputs": [],
   "source": [
    "dfR['BCSAO']=df.BCSAO\n",
    "dfR['BCSAO']=dfR.BCSAO.fillna(dfR.BCSAO.mean())"
   ]
  },
  {
   "cell_type": "code",
   "execution_count": 260,
   "id": "9ffab439-86f5-4841-bb73-0d03db1ee1fc",
   "metadata": {},
   "outputs": [],
   "source": [
    "MSA=df.MSA.replace(0,df.loc[df.MSA>0,'MSA'].min())\n",
    "dfR['MSA']=np.log(MSA)\n",
    "# sns.barplot(y=MSA, x='FORECLOSED',data=df)"
   ]
  },
  {
   "cell_type": "code",
   "execution_count": 261,
   "id": "bcbec6b3-cc8b-4613-8765-65335d8c38ec",
   "metadata": {},
   "outputs": [],
   "source": [
    "dfR['ZIP'] = df.ZIP\n",
    "# sns.barplot(y='ZIP', x='FORECLOSED',data=df)"
   ]
  },
  {
   "cell_type": "code",
   "execution_count": 262,
   "id": "141de76d-4d54-47ef-ba5e-f86786136ee1",
   "metadata": {},
   "outputs": [],
   "source": [
    "# sns.histplot(df.MIP)\n",
    "dfR['MIP'] = df.MIP.fillna(dfR.NB.mean())\n",
    "# sns.barplot(y='MIP', x='FORECLOSED',data=df)"
   ]
  },
  {
   "cell_type": "code",
   "execution_count": 263,
   "id": "72fd4539-c1bc-4b70-a2aa-5dbc9ceeb44b",
   "metadata": {},
   "outputs": [
    {
     "data": {
      "text/plain": [
       "Index(['MRP', 'CHANNEL', 'SELLER', 'ORATE', 'OUPB', 'OLTERM', 'ODATE', 'LA',\n",
       "       'LOTV', 'DTI', 'FTHBI', 'LP', 'PTYPE', 'NUNITS', 'OCCSTAT', 'STATE',\n",
       "       'RMI', 'CLDS', 'NB', 'BCSAO', 'MSA', 'ZIP', 'MIP', 'FORECLOSED'],\n",
       "      dtype='object')"
      ]
     },
     "execution_count": 263,
     "metadata": {},
     "output_type": "execute_result"
    }
   ],
   "source": [
    "y_nmonths = dfR.pop('NMONTHS')\n",
    "y1 = dfR.pop('FORECLOSED')\n",
    "dfR['FORECLOSED']=y1\n",
    "dfR.columns"
   ]
  },
  {
   "cell_type": "code",
   "execution_count": 264,
   "id": "dcb64495-64d6-4537-ad60-ebf49f4767fd",
   "metadata": {},
   "outputs": [
    {
     "name": "stdout",
     "output_type": "stream",
     "text": [
      "drop feature: []\n"
     ]
    }
   ],
   "source": [
    "## Drop If repeated features\n",
    "corrF =  dfR.iloc[:,:-1].corr().abs()\n",
    "upper = corrF.where(np.triu(np.ones(corrF.shape), k=1).astype(np.bool))\n",
    "to_drop = [column for column in upper.columns if any(upper[column] > 0.95)]\n",
    "print('drop feature:',to_drop)"
   ]
  },
  {
   "cell_type": "markdown",
   "id": "8a837e74-82e8-4552-aa56-847b4f5cd800",
   "metadata": {},
   "source": [
    "## Modify TEST Data in the Same Way"
   ]
  },
  {
   "cell_type": "code",
   "execution_count": 265,
   "id": "aefbab44-d84e-4bf5-8e4b-a81fed7511c6",
   "metadata": {},
   "outputs": [],
   "source": [
    "dfF['CLDS']=dfTEST.CLDS\n",
    "\n",
    "MDATE = dfTEST.MDATE.astype('string')\n",
    "for i,mdate in enumerate(MDATE):\n",
    "    if len(mdate)<6:\n",
    "        MDATE[i] = '0'+mdate\n",
    "    else:\n",
    "        MDATE[i] = mdate\n",
    "MDATE = pd.to_datetime(MDATE,format=\"%m%Y\")\n",
    "MDATE = (MDATE-min(MDATE))/np.timedelta64(1, 'Y')\n",
    "\n",
    "dfF['NB']=dfTEST.NB\n",
    "dfF['NB']=dfF.NB.fillna(dfF.NB.median())\n",
    "\n",
    "dfF['BCSAO']=dfTEST.BCSAO\n",
    "dfF['BCSAO']=dfF.BCSAO.fillna(dfF.BCSAO.mean())\n",
    "\n",
    "MSA=dfTEST.MSA.replace(0,dfTEST.loc[dfTEST.MSA>0,'MSA'].min())\n",
    "dfF['MSA']=np.log(MSA)\n",
    "\n",
    "dfF['ZIP'] = dfTEST.ZIP\n",
    "\n",
    "dfF['MIP'] = dfTEST.MIP.fillna(dfTEST.NB.mean())"
   ]
  },
  {
   "cell_type": "code",
   "execution_count": 266,
   "id": "1797c1ed-cc39-4a57-a0da-17329aada1cb",
   "metadata": {},
   "outputs": [
    {
     "data": {
      "text/plain": [
       "Index(['MRP', 'CHANNEL', 'SELLER', 'ORATE', 'OUPB', 'OLTERM', 'ODATE', 'LA',\n",
       "       'LOTV', 'DTI', 'FTHBI', 'LP', 'PTYPE', 'NUNITS', 'OCCSTAT', 'STATE',\n",
       "       'RMI', 'CLDS', 'NB', 'BCSAO', 'MSA', 'ZIP', 'MIP'],\n",
       "      dtype='object')"
      ]
     },
     "execution_count": 266,
     "metadata": {},
     "output_type": "execute_result"
    }
   ],
   "source": [
    "dfF.columns"
   ]
  },
  {
   "cell_type": "markdown",
   "id": "5efeef58-79a6-4fcd-9e0e-5b83b02de3de",
   "metadata": {},
   "source": [
    "## Rebalance Data"
   ]
  },
  {
   "cell_type": "code",
   "execution_count": 267,
   "id": "9c4e712e-6a5e-40fb-b919-04e643b8ef74",
   "metadata": {},
   "outputs": [],
   "source": [
    "import imblearn\n",
    "from collections import Counter\n",
    "from imblearn.over_sampling import RandomOverSampler\n",
    "from imblearn.under_sampling import RandomUnderSampler"
   ]
  },
  {
   "cell_type": "code",
   "execution_count": 268,
   "id": "1e872144-b249-480d-9c0e-e5be00698d2c",
   "metadata": {},
   "outputs": [],
   "source": [
    "y1 = dfR.pop('FORECLOSED')\n",
    "T1 = dfR # (164575)"
   ]
  },
  {
   "cell_type": "code",
   "execution_count": 269,
   "id": "0a31842d-3a66-44b4-92a2-3f5911647f24",
   "metadata": {},
   "outputs": [],
   "source": [
    "# RO (T2) \n",
    "oversample = RandomOverSampler(sampling_strategy='minority')\n",
    "T2, y2 = oversample.fit_resample(T1, y1) # (324656)"
   ]
  },
  {
   "cell_type": "code",
   "execution_count": 270,
   "id": "a76f839a-6dc2-4301-a84c-bc344257e6e2",
   "metadata": {},
   "outputs": [],
   "source": [
    "# RU (T3)\n",
    "undersample = RandomUnderSampler(sampling_strategy='majority')\n",
    "T3, y3 = undersample.fit_resample(T1, y1) # (4494)"
   ]
  },
  {
   "cell_type": "code",
   "execution_count": 271,
   "id": "ff4431b8-18f9-48f7-8a91-c5b4d2431027",
   "metadata": {},
   "outputs": [],
   "source": [
    "# RO & RU (T4) \n",
    "over = RandomOverSampler(sampling_strategy=0.5)\n",
    "T4, y4 = over.fit_resample(T1, y1)\n",
    "under = RandomUnderSampler(sampling_strategy=1)\n",
    "T4, y4 = under.fit_resample(T4, y4) # (162328)"
   ]
  },
  {
   "cell_type": "markdown",
   "id": "215da165-504a-4cd7-bc94-5a6b8f14292e",
   "metadata": {},
   "source": [
    "## TSNE Visualization"
   ]
  },
  {
   "cell_type": "code",
   "execution_count": 272,
   "id": "1bb206df-b22f-41d7-a10c-98f64066f655",
   "metadata": {},
   "outputs": [],
   "source": [
    "from sklearn.manifold import TSNE\n",
    "from numpy import reshape\n",
    "from matplotlib.gridspec import GridSpec"
   ]
  },
  {
   "cell_type": "code",
   "execution_count": 154,
   "id": "bb0f2d31-e289-4385-8241-d242a8f94122",
   "metadata": {},
   "outputs": [
    {
     "data": {
      "image/png": "[encoded data removed]",
      "text/plain": [
       "<Figure size 432x288 with 1 Axes>"
      ]
     },
     "metadata": {
      "needs_background": "light"
     },
     "output_type": "display_data"
    }
   ],
   "source": [
    "tsne_T=T3\n",
    "tsne_y=y3\n",
    "i=3\n",
    "tsne_title = \"T{} Training set T-SNE Projection\".format(i)\n",
    "\n",
    "tsne = TSNE(init='random',learning_rate='auto')\n",
    "z = tsne.fit_transform(tsne_T) \n",
    "tsne1=sns.scatterplot(x=z[:,0], y=z[:,1],hue=y3,\n",
    "                      palette=sns.color_palette(\"deep\", 2)).set(title=tsne_title) "
   ]
  },
  {
   "cell_type": "markdown",
   "id": "284c81a6-b3fe-4a34-b708-f5b44cb2667c",
   "metadata": {},
   "source": [
    "## Train Model"
   ]
  },
  {
   "cell_type": "code",
   "execution_count": 273,
   "id": "eab52c11-c2d2-404e-8079-c1250b3cd83a",
   "metadata": {},
   "outputs": [],
   "source": [
    "def TrainModel(T,y,dfF):  \n",
    "    df_train, df_test,y_train,y_test = train_test_split(T,y, \n",
    "                                     train_size = 0.7, \n",
    "                                     test_size = 0.3, \n",
    "                                     random_state = 100)\n",
    "    clf = LogisticRegression(random_state=0).fit(df_train,y_train)\n",
    "    score = cross_val_score(clf, df_train, y_train, \n",
    "                cv=StratifiedKFold(n_splits=5), \n",
    "                scoring='accuracy').mean()\n",
    "    FC_pred = clf.predict(dfF)\n",
    "    FC_true_prob = clf.predict_proba(dfF)[:,1]\n",
    "    return(score,FC_true_prob)"
   ]
  },
  {
   "cell_type": "code",
   "execution_count": 274,
   "id": "fee994ad-2dcc-4048-be74-8d333e7c78a1",
   "metadata": {},
   "outputs": [],
   "source": [
    "train_dict = {\n",
    "    \"T1\":(T1,y1),\n",
    "    \"T2\":(T2,y2),\n",
    "    \"T3\":(T3,y3),\n",
    "    \"T4\":(T4,y4)\n",
    "}\n",
    "scores = np.array([])\n",
    "T_prob_df = pd.DataFrame({'T1':[],\n",
    "                          'T2':[],\n",
    "                          'T3':[],\n",
    "                          'T4':[]})\n",
    "for name,(T, y) in train_dict.items():\n",
    "    score,FC_true_prob = TrainModel(T,y,dfF)\n",
    "    scores = np.append(scores,score)\n",
    "    T_prob_df[name]= FC_true_prob"
   ]
  },
  {
   "cell_type": "code",
   "execution_count": 275,
   "id": "3c4cfd11-92aa-4f93-b0ef-6104423f6f8c",
   "metadata": {},
   "outputs": [
    {
     "data": {
      "text/plain": [
       "array([0.98631968, 0.69735411, 0.69856916, 0.69816683])"
      ]
     },
     "execution_count": 275,
     "metadata": {},
     "output_type": "execute_result"
    }
   ],
   "source": [
    "scores"
   ]
  },
  {
   "cell_type": "markdown",
   "id": "b2d10efe-51f5-4f60-bac0-d591f5258ec8",
   "metadata": {},
   "source": [
    "## Analyze Scores\n",
    "The reason for high accuracy using the original sample size is because the proportion of 'False Foreclosed' is too large.\n",
    "To avoid the problems caused by the imbalance dataset, using model trained from 'T4' instead."
   ]
  },
  {
   "cell_type": "code",
   "execution_count": 276,
   "id": "bf224536-14a3-4515-ad28-26fbcc87c826",
   "metadata": {},
   "outputs": [],
   "source": [
    "# sorted_FC_prob=sorted(range(len(T_prob_df.T4)),\n",
    "#                       key = lambda sub: T_prob_df.T4[sub],reverse=True)\n",
    "T_prob = sorted(T_prob_df.T4,reverse=True)[1000]\n",
    "FORECLOSED = np.array(T_prob_df.T4>T_prob,dtype='bool')"
   ]
  },
  {
   "cell_type": "code",
   "execution_count": 277,
   "id": "c1970373-26bc-4fe0-9a1c-6bd5998883d2",
   "metadata": {},
   "outputs": [],
   "source": [
    "FORECLOSED_tb = pd.DataFrame({'LID':dfTEST.LID.astype('str'),\n",
    "                              'FORECLOSED':FORECLOSED})"
   ]
  },
  {
   "cell_type": "code",
   "execution_count": 278,
   "id": "531e4ab7-65f5-40bb-956b-cde9a69477cd",
   "metadata": {},
   "outputs": [
    {
     "data": {
      "text/html": [
       "<div>\n",
       "<style scoped>\n",
       "    .dataframe tbody tr th:only-of-type {\n",
       "        vertical-align: middle;\n",
       "    }\n",
       "\n",
       "    .dataframe tbody tr th {\n",
       "        vertical-align: top;\n",
       "    }\n",
       "\n",
       "    .dataframe thead th {\n",
       "        text-align: right;\n",
       "    }\n",
       "</style>\n",
       "<table border=\"1\" class=\"dataframe\">\n",
       "  <thead>\n",
       "    <tr style=\"text-align: right;\">\n",
       "      <th></th>\n",
       "      <th>LID</th>\n",
       "      <th>FORECLOSED</th>\n",
       "    </tr>\n",
       "  </thead>\n",
       "  <tbody>\n",
       "    <tr>\n",
       "      <th>0</th>\n",
       "      <td>794000000000.0</td>\n",
       "      <td>False</td>\n",
       "    </tr>\n",
       "    <tr>\n",
       "      <th>1</th>\n",
       "      <td>277000000000.0</td>\n",
       "      <td>False</td>\n",
       "    </tr>\n",
       "    <tr>\n",
       "      <th>2</th>\n",
       "      <td>507000000000.0</td>\n",
       "      <td>False</td>\n",
       "    </tr>\n",
       "    <tr>\n",
       "      <th>3</th>\n",
       "      <td>493000000000.0</td>\n",
       "      <td>False</td>\n",
       "    </tr>\n",
       "    <tr>\n",
       "      <th>4</th>\n",
       "      <td>843000000000.0</td>\n",
       "      <td>False</td>\n",
       "    </tr>\n",
       "  </tbody>\n",
       "</table>\n",
       "</div>"
      ],
      "text/plain": [
       "              LID  FORECLOSED\n",
       "0  794000000000.0       False\n",
       "1  277000000000.0       False\n",
       "2  507000000000.0       False\n",
       "3  493000000000.0       False\n",
       "4  843000000000.0       False"
      ]
     },
     "execution_count": 278,
     "metadata": {},
     "output_type": "execute_result"
    }
   ],
   "source": [
    "FORECLOSED_tb.head()"
   ]
  },
  {
   "cell_type": "code",
   "execution_count": 287,
   "id": "b80a4a08-19c5-4bb8-9549-100183c729cd",
   "metadata": {},
   "outputs": [],
   "source": [
    "FORECLOSED_tb.to_csv('FORECLOSURES.csv',index=False)"
   ]
  },
  {
   "cell_type": "code",
   "execution_count": 286,
   "id": "b4e4b9a0-a5ec-476e-996f-998231121deb",
   "metadata": {},
   "outputs": [
    {
     "data": {
      "text/plain": [
       "1000"
      ]
     },
     "execution_count": 286,
     "metadata": {},
     "output_type": "execute_result"
    }
   ],
   "source": [
    "sum(FORECLOSED_tb.FORECLOSED)"
   ]
  },
  {
   "cell_type": "code",
   "execution_count": null,
   "id": "f8ba4e07-154e-4e2a-979a-5351b250496c",
   "metadata": {},
   "outputs": [],
   "source": []
  }
 ],
 "metadata": {
  "kernelspec": {
   "display_name": "Python 3 (ipykernel)",
   "language": "python",
   "name": "python3"
  },
  "language_info": {
   "codemirror_mode": {
    "name": "ipython",
    "version": 3
   },
   "file_extension": ".py",
   "mimetype": "text/x-python",
   "name": "python",
   "nbconvert_exporter": "python",
   "pygments_lexer": "ipython3",
   "version": "3.9.7"
  }
 },
 "nbformat": 4,
 "nbformat_minor": 5
}
